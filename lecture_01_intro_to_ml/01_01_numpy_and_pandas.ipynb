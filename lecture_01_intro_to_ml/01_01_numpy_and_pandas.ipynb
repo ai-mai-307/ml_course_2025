{
 "cells": [
  {
   "cell_type": "markdown",
   "id": "4496b27d",
   "metadata": {},
   "source": [
    "# Демо блокнот к Лекции №1. Знакомство со средствами обработки табличных данных языка Python\n",
    "\n",
    "В этом демо-блокноте мы познакомимся с основными библиотеками для работы с векторными и табличными данными -- Numpy и Pandas."
   ]
  },
  {
   "cell_type": "markdown",
   "id": "6f77957a",
   "metadata": {},
   "source": [
    "## Numpy \n",
    "\n",
    "Практически любая современная задача машинного обучения и анализа данных в конечном счёте сводится к работе с векторами чисел. Даже если на входе у нас есть изображения, тексты или аудиозаписи — всё это в процессе предобработки превращается в числовые признаки, которые можно представить в виде многомерных векторов.\n",
    "\n",
    "В отличие от питоновских списков (```list```), которые могут хранить объекты любого типа и обладают большой гибкостью, массивы ```numpy``` предназначены специально для работы с числовыми данными и оптимизированы для векторных вычислений.\n",
    "\n",
    "Как только вы пытаетесь выполнять числовые расчёты над *большими* списками, питон быстро напоминает о своём интерпретируемом характере. Операции со списками, особенно с использованием циклов for, становятся медленными и неэффективными, что особенно критично в задачах анализа данных или машинного обучения.\n",
    "\n",
    "NumPy решает эту проблему за счёт введения однородных массивов фиксированного типа данных, которые называются ```ndarray``` (N-dimensional array). Они создаются таким образом, чтобы операции над ними выполнялись максимально эффективно за счёт векторизации и обращения к оптимизированным библиотекам, написанным на C.\n",
    "\n",
    "Ключевые особенности ``numpy.ndarray``:\n",
    "- все элементы массива хранятся в памяти компактно, в одном блоке;\n",
    "- операции с массивами реализованы на уровне компилируемого кода, что даёт значительный выигрыш в скорости по сравнению со стандартными списками Python;\n",
    "- доступно огромное количество оптимизированных функций для работы с векторами и матрицами: от простых арифметических операций до линейной алгебры, статистики и трансформаций.\n",
    "\n",
    "На практике это означает, что задачи, которые в чистом Python потребовали бы медленных циклов и множества строк кода, в ```numpy``` решаются в одну строку и в разы быстрее."
   ]
  },
  {
   "cell_type": "markdown",
   "id": "917dbccb",
   "metadata": {},
   "source": [
    "Если вы запускаете этот блокнот в Yandex Datasphere, то у вас нет необходимости [самим устанавливать эту библиотеку](https://numpy.org/install/) и вам остается только сделать её импорт:"
   ]
  },
  {
   "cell_type": "code",
   "execution_count": 1,
   "id": "bf528ba9",
   "metadata": {},
   "outputs": [],
   "source": [
    "import numpy as np"
   ]
  },
  {
   "cell_type": "markdown",
   "id": "87360dc1",
   "metadata": {},
   "source": [
    "### Создание массива"
   ]
  },
  {
   "cell_type": "markdown",
   "id": "605d5f10",
   "metadata": {},
   "source": [
    "#### Из готового списка"
   ]
  },
  {
   "cell_type": "code",
   "execution_count": 2,
   "id": "a0fcc297",
   "metadata": {},
   "outputs": [
    {
     "data": {
      "text/plain": [
       "array([0, 1, 2, 3, 4, 5])"
      ]
     },
     "execution_count": 2,
     "metadata": {},
     "output_type": "execute_result"
    }
   ],
   "source": [
    "a = np.array([0, 1, 2, 3, 4, 5])\n",
    "a"
   ]
  },
  {
   "cell_type": "markdown",
   "id": "71d85443",
   "metadata": {},
   "source": [
    "#### С нуля с любым фиксированным значением"
   ]
  },
  {
   "cell_type": "code",
   "execution_count": 6,
   "id": "996c2eda",
   "metadata": {},
   "outputs": [
    {
     "data": {
      "text/plain": [
       "array([[0., 0., 0., 0.],\n",
       "       [0., 0., 0., 0.]])"
      ]
     },
     "execution_count": 6,
     "metadata": {},
     "output_type": "execute_result"
    }
   ],
   "source": [
    "np.zeros((2, 4))"
   ]
  },
  {
   "cell_type": "code",
   "execution_count": 7,
   "id": "2b440241",
   "metadata": {},
   "outputs": [
    {
     "data": {
      "text/plain": [
       "array([1., 1., 1., 1., 1., 1., 1., 1., 1.])"
      ]
     },
     "execution_count": 7,
     "metadata": {},
     "output_type": "execute_result"
    }
   ],
   "source": [
    "np.ones(9)"
   ]
  },
  {
   "cell_type": "code",
   "execution_count": 10,
   "id": "fab1a618",
   "metadata": {},
   "outputs": [
    {
     "data": {
      "text/plain": [
       "array([[9, 9, 9, 9, 9],\n",
       "       [9, 9, 9, 9, 9],\n",
       "       [9, 9, 9, 9, 9],\n",
       "       [9, 9, 9, 9, 9],\n",
       "       [9, 9, 9, 9, 9]])"
      ]
     },
     "execution_count": 10,
     "metadata": {},
     "output_type": "execute_result"
    }
   ],
   "source": [
    "np.full((5, 5), 9)"
   ]
  },
  {
   "cell_type": "markdown",
   "id": "fdee7372",
   "metadata": {},
   "source": [
    "**Когда это может понадобиться?**\n",
    "\n",
    "- для создания маски при вычислениях\n",
    "- инициализировать весы сети\n",
    "- создать пустой массив, чтобы затем заполнить его специальным образом"
   ]
  },
  {
   "cell_type": "markdown",
   "id": "2b921a0e",
   "metadata": {},
   "source": [
    "#### Генерация по диапазону\n",
    "\n",
    "Часто в задачах анализа данных мы хотим сгенерировать числовую последовательность с шагом или разбивкой по диапазону.\n",
    "\n",
    "- ``np.arange(start, stop, step)`` — аналог функции range(), но работает с вещественными числами.\n",
    "- ``np.linspace(start, stop, num)`` — разбивает интервал на равные части."
   ]
  },
  {
   "cell_type": "code",
   "execution_count": 12,
   "id": "55b426aa",
   "metadata": {},
   "outputs": [
    {
     "data": {
      "text/plain": [
       "array([0, 2, 4, 6, 8])"
      ]
     },
     "execution_count": 12,
     "metadata": {},
     "output_type": "execute_result"
    }
   ],
   "source": [
    "np.arange(0, 10, 2) "
   ]
  },
  {
   "cell_type": "code",
   "execution_count": null,
   "id": "60b1acb1",
   "metadata": {},
   "outputs": [
    {
     "data": {
      "text/plain": [
       "array([0.  , 0.25, 0.5 , 0.75, 1.  ])"
      ]
     },
     "execution_count": 13,
     "metadata": {},
     "output_type": "execute_result"
    }
   ],
   "source": [
    "np.linspace(0, 1, 5)"
   ]
  },
  {
   "cell_type": "markdown",
   "id": "0fa3caa2",
   "metadata": {},
   "source": [
    "**Когда это может быть нужно?**\n",
    "\n",
    "- генерация синтетических данных\n",
    "- работа с временными рядами\n",
    "- создание координатных сеток"
   ]
  },
  {
   "cell_type": "markdown",
   "id": "0a1e68eb",
   "metadata": {},
   "source": [
    "#### Генерация случайного массива\n",
    "\n",
    "``numpy`` предлагает большой набор генераторов случайных чисел через модуль ``np.random``\n",
    "\n",
    "Основные функции:\n",
    "- ``np.random.rand(shape)`` — случайные числа от 0 до 1 из равномерного распределения;\n",
    "- `np.random.randn(shape)` — случайные числа из стандартного нормального распределения (среднее 0, дисперсия 1);\n",
    "- `np.random.randint(low, high, size)` — случайные целые числа в заданном диапазоне."
   ]
  },
  {
   "cell_type": "code",
   "execution_count": 16,
   "id": "c3932e64",
   "metadata": {},
   "outputs": [
    {
     "data": {
      "text/plain": [
       "array([[0.43296643, 0.33044409],\n",
       "       [0.85300287, 0.27862206],\n",
       "       [0.69229525, 0.15248531]])"
      ]
     },
     "execution_count": 16,
     "metadata": {},
     "output_type": "execute_result"
    }
   ],
   "source": [
    "np.random.rand(3, 2)  "
   ]
  },
  {
   "cell_type": "code",
   "execution_count": 17,
   "id": "1a5ec869",
   "metadata": {},
   "outputs": [
    {
     "data": {
      "text/plain": [
       "array([-1.45968548, -0.26999446,  1.955533  , -0.33599414])"
      ]
     },
     "execution_count": 17,
     "metadata": {},
     "output_type": "execute_result"
    }
   ],
   "source": [
    "np.random.randn(4)    "
   ]
  },
  {
   "cell_type": "code",
   "execution_count": 18,
   "id": "6603480f",
   "metadata": {},
   "outputs": [
    {
     "data": {
      "text/plain": [
       "array([3, 5, 0, 0, 7], dtype=int32)"
      ]
     },
     "execution_count": 18,
     "metadata": {},
     "output_type": "execute_result"
    }
   ],
   "source": [
    "np.random.randint(0, 10, 5) "
   ]
  },
  {
   "cell_type": "markdown",
   "id": "6841df68",
   "metadata": {},
   "source": [
    "**Когда это стоит использовать?**\n",
    "Когда известно, что размерность массива должна совпадать с уже имеющимся — например, при создании масок, накоплении данных по батчам или создании новых признаков."
   ]
  },
  {
   "cell_type": "markdown",
   "id": "de14dd54",
   "metadata": {},
   "source": [
    "#### Копирование структуры другого массива\n",
    "\n",
    "Иногда нужно создать новый массив той же формы, что и существующий, но с другими значениями. Для этого есть специальные функции:\n",
    "\n",
    "- `np.empty_like(existing_array)` — массив такой же формы, не инициализированный (мусорные значения);\n",
    "- `np.zeros_like(existing_array)` — массив той же формы, заполненный нулями;\n",
    "- `np.ones_like(existing_array)` — аналогично с единицами."
   ]
  },
  {
   "cell_type": "code",
   "execution_count": 19,
   "id": "71c53114",
   "metadata": {},
   "outputs": [
    {
     "data": {
      "text/plain": [
       "array([[1, 2, 3],\n",
       "       [4, 5, 6]])"
      ]
     },
     "execution_count": 19,
     "metadata": {},
     "output_type": "execute_result"
    }
   ],
   "source": [
    "a = np.array([[1, 2, 3], [4, 5, 6]])\n",
    "a"
   ]
  },
  {
   "cell_type": "code",
   "execution_count": 20,
   "id": "dbdeec99",
   "metadata": {},
   "outputs": [
    {
     "data": {
      "text/plain": [
       "array([[0, 0, 0],\n",
       "       [0, 0, 0]])"
      ]
     },
     "execution_count": 20,
     "metadata": {},
     "output_type": "execute_result"
    }
   ],
   "source": [
    "np.zeros_like(a)"
   ]
  },
  {
   "cell_type": "markdown",
   "id": "85a478d7",
   "metadata": {},
   "source": [
    "### Доступ к элементам массива"
   ]
  },
  {
   "cell_type": "markdown",
   "id": "0aa0f556",
   "metadata": {},
   "source": [
    "Одномерные массивы можно индексированы также, как мы это делаем с питоновскими списками."
   ]
  },
  {
   "cell_type": "code",
   "execution_count": 21,
   "id": "5a4f1867",
   "metadata": {},
   "outputs": [
    {
     "data": {
      "text/plain": [
       "array([0, 1, 2, 3, 4, 5, 6, 7, 8, 9])"
      ]
     },
     "execution_count": 21,
     "metadata": {},
     "output_type": "execute_result"
    }
   ],
   "source": [
    "a = np.arange(10)\n",
    "a"
   ]
  },
  {
   "cell_type": "code",
   "execution_count": 22,
   "id": "0c1f76a1",
   "metadata": {},
   "outputs": [
    {
     "data": {
      "text/plain": [
       "np.int64(4)"
      ]
     },
     "execution_count": 22,
     "metadata": {},
     "output_type": "execute_result"
    }
   ],
   "source": [
    "a[4]"
   ]
  },
  {
   "cell_type": "code",
   "execution_count": 23,
   "id": "9073dc9c",
   "metadata": {},
   "outputs": [
    {
     "data": {
      "text/plain": [
       "array([2, 3, 4])"
      ]
     },
     "execution_count": 23,
     "metadata": {},
     "output_type": "execute_result"
    }
   ],
   "source": [
    "a[2:5]"
   ]
  },
  {
   "cell_type": "code",
   "execution_count": 24,
   "id": "3ad969c0",
   "metadata": {},
   "outputs": [],
   "source": [
    "a[:6:2] = 1000"
   ]
  },
  {
   "cell_type": "code",
   "execution_count": 25,
   "id": "c1a3df40",
   "metadata": {},
   "outputs": [
    {
     "data": {
      "text/plain": [
       "array([   9,    8,    7,    6,    5, 1000,    3, 1000,    1, 1000])"
      ]
     },
     "execution_count": 25,
     "metadata": {},
     "output_type": "execute_result"
    }
   ],
   "source": [
    "a[::-1]"
   ]
  },
  {
   "cell_type": "code",
   "execution_count": 26,
   "id": "bfe36e01",
   "metadata": {},
   "outputs": [
    {
     "name": "stdout",
     "output_type": "stream",
     "text": [
      "1000000\n",
      "1\n",
      "1000000\n",
      "9\n",
      "1000000\n",
      "25\n",
      "36\n",
      "49\n",
      "64\n",
      "81\n"
     ]
    }
   ],
   "source": [
    "for i in a:\n",
    "    print(i **2)"
   ]
  },
  {
   "cell_type": "markdown",
   "id": "b8458e95",
   "metadata": {},
   "source": [
    "Многомерные массивы могут иметь по одному индексу на ось. Эти индексы задаются в виде кортежа, разделенного запятыми:"
   ]
  },
  {
   "cell_type": "code",
   "execution_count": null,
   "id": "f09f95bd",
   "metadata": {},
   "outputs": [
    {
     "data": {
      "text/plain": [
       "array([[7, 9, 8, 0],\n",
       "       [6, 8, 5, 0],\n",
       "       [7, 3, 5, 2]], dtype=int32)"
      ]
     },
     "execution_count": 32,
     "metadata": {},
     "output_type": "execute_result"
    }
   ],
   "source": [
    "b = np.random.randint(0, 10, (3, 4)) # массив 3x4 из случайных чисел от 0 до 10 \n",
    "b"
   ]
  },
  {
   "cell_type": "code",
   "execution_count": 33,
   "id": "6ffb8b25",
   "metadata": {},
   "outputs": [
    {
     "data": {
      "text/plain": [
       "np.int32(9)"
      ]
     },
     "execution_count": 33,
     "metadata": {},
     "output_type": "execute_result"
    }
   ],
   "source": [
    "b[0, 1]"
   ]
  },
  {
   "cell_type": "code",
   "execution_count": 34,
   "id": "04ddd43f",
   "metadata": {},
   "outputs": [
    {
     "data": {
      "text/plain": [
       "array([9, 8, 3], dtype=int32)"
      ]
     },
     "execution_count": 34,
     "metadata": {},
     "output_type": "execute_result"
    }
   ],
   "source": [
    "b[0:5, 1]"
   ]
  },
  {
   "cell_type": "code",
   "execution_count": null,
   "id": "c3ea572f",
   "metadata": {},
   "outputs": [],
   "source": [
    "b[:, 1] "
   ]
  },
  {
   "cell_type": "code",
   "execution_count": null,
   "id": "8b135dc2",
   "metadata": {},
   "outputs": [],
   "source": [
    "b[1:3, :]"
   ]
  },
  {
   "cell_type": "code",
   "execution_count": null,
   "id": "4ed3ba40",
   "metadata": {},
   "outputs": [],
   "source": [
    "b[-1] "
   ]
  },
  {
   "cell_type": "markdown",
   "id": "7ea816db",
   "metadata": {},
   "source": [
    "Выражение в скобках в b[i] рассматривается как i, за которым следует столько экземпляров :, сколько необходимо для представления остальных осей. NumPy также позволяет записать это выражение с помощью точек как b[i, ...]. Точки (...) представляют столько двоеточий, сколько необходимо для создания полного кортежа индексации. Например, если x - массив с 5 осями, то: \n",
    "- `x[1, 2, ...]` эквивалетно ` x[1, 2, :, :, :]`,\n",
    "- `x[..., 3]` эквивалентна `x[:, :, :, :, 3]` и\n",
    "- `x[4, ..., 5, :]` эквивалентна `x[4, :, :, 5, :]`."
   ]
  },
  {
   "cell_type": "markdown",
   "id": "c115437a",
   "metadata": {},
   "source": [
    "### Копирование массива и вид (view) его представления \n",
    "\n",
    "Массив numpy - это структура данных, состоящая из двух частей: линейного, \"непрерывного\" буфера данных в оперативной памяти и метаданных, содержащих информацию о буфере.\n",
    "\n",
    "Метаданные включают в себя тип данных, страйд и другую важную информацию, которая помогает легко манипулировать массивом. "
   ]
  },
  {
   "cell_type": "markdown",
   "id": "a908fbd1",
   "metadata": {},
   "source": [
    "\n",
    "**View** — это представление того же буфера, блока данных, но с другими метаданными (размер, страйд, тип и т.д.). При изменении view меняются и оригинальные данные \n"
   ]
  },
  {
   "cell_type": "code",
   "execution_count": 35,
   "id": "5434ba38",
   "metadata": {},
   "outputs": [
    {
     "data": {
      "text/plain": [
       "array([  0,   1, 100, 100, 100,   5,   6,   7,   8,   9])"
      ]
     },
     "execution_count": 35,
     "metadata": {},
     "output_type": "execute_result"
    }
   ],
   "source": [
    "x = np.arange(10)\n",
    "y = x[2:5]       \n",
    "y[:] = 100     \n",
    "\n",
    "\n",
    "x"
   ]
  },
  {
   "cell_type": "markdown",
   "id": "71db6824",
   "metadata": {},
   "source": [
    "Copy создает полноценную копию данных — новый блок памяти, независимый от исходныго."
   ]
  },
  {
   "cell_type": "code",
   "execution_count": 36,
   "id": "0d394665",
   "metadata": {},
   "outputs": [
    {
     "data": {
      "text/plain": [
       "(array([0, 1, 2, 3, 4, 5, 6, 7, 8, 9]),\n",
       " array([-1,  1,  2,  3,  4,  5,  6,  7,  8,  9]))"
      ]
     },
     "execution_count": 36,
     "metadata": {},
     "output_type": "execute_result"
    }
   ],
   "source": [
    "x = np.arange(10)\n",
    "y = x.copy()    \n",
    "y[0] = -1\n",
    "\n",
    "\n",
    "x, y"
   ]
  },
  {
   "cell_type": "markdown",
   "id": "521fc791",
   "metadata": {},
   "source": [
    "NumPy предоставляет удобное свойство .base и флаг `.flags['OWNDATA']`:\n",
    "\n",
    "- Если `arr.base` is None, то `arr` владеет данными — это скорее всего копия.\n",
    "- Если `arr.base` is not None, то `arr` — view, указывает на оригинал."
   ]
  },
  {
   "cell_type": "code",
   "execution_count": null,
   "id": "528e8897",
   "metadata": {},
   "outputs": [
    {
     "data": {
      "text/plain": [
       "(False, True)"
      ]
     },
     "execution_count": 44,
     "metadata": {},
     "output_type": "execute_result"
    }
   ],
   "source": [
    "x = np.arange(9)\n",
    "y = x.reshape((3,3))\n",
    "z = x[[2, 4]]\n",
    "\n",
    "y.base is None, z.base is None"
   ]
  },
  {
   "cell_type": "markdown",
   "id": "a54680a6",
   "metadata": {},
   "source": [
    "### Изменение формы массива\n",
    "\n",
    "Когда вы работаете с многомерными массивами, часто нужно изменить их форму — сделать из строки столбец, из матрицы вектор или наоборот. NumPy имеет разные функции, решающие такую задачу"
   ]
  },
  {
   "cell_type": "markdown",
   "id": "aabdef89",
   "metadata": {},
   "source": [
    "#### reshape()\n",
    "\n",
    "gозволяет реорганизовать массив, сохраняя тот же объём"
   ]
  },
  {
   "cell_type": "code",
   "execution_count": null,
   "id": "0a722d77",
   "metadata": {},
   "outputs": [
    {
     "data": {
      "text/plain": [
       "(array([[ 0,  1,  2,  3],\n",
       "        [ 4,  5,  6,  7],\n",
       "        [ 8,  9, 10, 11]]),\n",
       " True)"
      ]
     },
     "execution_count": 39,
     "metadata": {},
     "output_type": "execute_result"
    }
   ],
   "source": [
    "x = np.arange(12)          \n",
    "y = x.reshape((3, 4))\n",
    "\n",
    "y, y.base is x"
   ]
  },
  {
   "cell_type": "code",
   "execution_count": 45,
   "id": "7a94c046",
   "metadata": {},
   "outputs": [
    {
     "ename": "ValueError",
     "evalue": "cannot reshape array of size 9 into shape (7,8)",
     "output_type": "error",
     "traceback": [
      "\u001b[31m---------------------------------------------------------------------------\u001b[39m",
      "\u001b[31mValueError\u001b[39m                                Traceback (most recent call last)",
      "\u001b[36mCell\u001b[39m\u001b[36m \u001b[39m\u001b[32mIn[45]\u001b[39m\u001b[32m, line 1\u001b[39m\n\u001b[32m----> \u001b[39m\u001b[32m1\u001b[39m w = \u001b[43mx\u001b[49m\u001b[43m.\u001b[49m\u001b[43mreshape\u001b[49m\u001b[43m(\u001b[49m\u001b[43m(\u001b[49m\u001b[32;43m7\u001b[39;49m\u001b[43m,\u001b[49m\u001b[43m \u001b[49m\u001b[32;43m8\u001b[39;49m\u001b[43m)\u001b[49m\u001b[43m)\u001b[49m\n",
      "\u001b[31mValueError\u001b[39m: cannot reshape array of size 9 into shape (7,8)"
     ]
    }
   ],
   "source": [
    "w = x.reshape((7, 8))"
   ]
  },
  {
   "cell_type": "markdown",
   "id": "0ba9ebd1",
   "metadata": {},
   "source": [
    "#### flatten, ravel, reshape(-1)\n",
    "\n",
    "- `flatten()` — всегда копирует данные в плоский (1D) массив\n",
    "- `ravel()` — view, если возможно; иначе — копия\n",
    "- `reshape(-1)` — аналогично ravel(), но гарантирует view даже если память не непрерывна"
   ]
  },
  {
   "cell_type": "code",
   "execution_count": null,
   "id": "f836ed5d",
   "metadata": {},
   "outputs": [],
   "source": [
    "a = np.arange(6).reshape(2,3)\n",
    "\n",
    "f = a.flatten()\n",
    "r = a.ravel()\n",
    "v = a.reshape(-1)\n",
    "\n",
    "print(f.base is None)      # True — копия\n",
    "print(r.base is a)         # True — view\n",
    "print(v.base is a)         # True — view\n"
   ]
  },
  {
   "cell_type": "markdown",
   "id": "b094f02c",
   "metadata": {},
   "source": [
    "### Математические операции над массивами\n",
    "\n",
    "#### Элементарные арифметические операции\n",
    "\n",
    "NumPy позволяет выполнять векторные операции, аналогичные скалярным, но без Python-циклов"
   ]
  },
  {
   "cell_type": "code",
   "execution_count": null,
   "id": "5463b6fa",
   "metadata": {},
   "outputs": [
    {
     "name": "stdout",
     "output_type": "stream",
     "text": [
      "[5 7 9]\n",
      "[ 4 10 18]\n",
      "[-3 -3 -3]\n",
      "[4.  2.5 2. ]\n",
      "[1 4 9]\n"
     ]
    },
    {
     "data": {
      "text/plain": [
       "True"
      ]
     },
     "execution_count": 46,
     "metadata": {},
     "output_type": "execute_result"
    }
   ],
   "source": [
    "a = np.array([1,2,3])\n",
    "b = np.array([4,5,6])\n",
    "\n",
    "print(a + b)   # [5,7,9]\n",
    "print(a * b)   # [4,10,18]\n",
    "print(a - b)   # [-3,-3,-3]\n",
    "print(b / a)   # [4.,2.5,2.]\n",
    "print(a ** 2)  # [1,4,9]"
   ]
  },
  {
   "cell_type": "code",
   "execution_count": 47,
   "id": "039b98c7",
   "metadata": {},
   "outputs": [
    {
     "data": {
      "text/plain": [
       "True"
      ]
     },
     "execution_count": 47,
     "metadata": {},
     "output_type": "execute_result"
    }
   ],
   "source": [
    "z = a + b\n",
    "z.base is None # True, z — копия"
   ]
  },
  {
   "cell_type": "markdown",
   "id": "8f6c2180",
   "metadata": {},
   "source": [
    "#### Булевы операции"
   ]
  },
  {
   "cell_type": "code",
   "execution_count": 48,
   "id": "481d2583",
   "metadata": {},
   "outputs": [],
   "source": [
    "mask = b > 5       # [False, False, True]    # отбор элементов по условию"
   ]
  },
  {
   "cell_type": "code",
   "execution_count": 49,
   "id": "18d0382d",
   "metadata": {},
   "outputs": [
    {
     "data": {
      "text/plain": [
       "array([False, False,  True])"
      ]
     },
     "execution_count": 49,
     "metadata": {},
     "output_type": "execute_result"
    }
   ],
   "source": [
    "mask"
   ]
  },
  {
   "cell_type": "code",
   "execution_count": 50,
   "id": "8685842b",
   "metadata": {},
   "outputs": [
    {
     "data": {
      "text/plain": [
       "array([3])"
      ]
     },
     "execution_count": 50,
     "metadata": {},
     "output_type": "execute_result"
    }
   ],
   "source": [
    "a[mask]"
   ]
  },
  {
   "cell_type": "markdown",
   "id": "816472d2",
   "metadata": {},
   "source": [
    "#### Операции линейной алгебры\n",
    "\n",
    "- a @ b или np.matmul(a, b) — матричное умножение\n",
    "- np.dot(a, b) — скалярное, векторное или матричное умножение."
   ]
  },
  {
   "cell_type": "code",
   "execution_count": null,
   "id": "72f5965b",
   "metadata": {},
   "outputs": [],
   "source": [
    "M = np.array([[1,2],[3,4]])\n",
    "v = np.array([5,6])\n",
    "\n",
    "print(M @ v)           # [17,39]\n",
    "print(np.dot(M, M))    # [[7,10],[15,22]]\n"
   ]
  },
  {
   "cell_type": "markdown",
   "id": "a8e2e80c",
   "metadata": {},
   "source": [
    "#### Агрегационные функции над осями массива"
   ]
  },
  {
   "cell_type": "code",
   "execution_count": 52,
   "id": "8b408c3b",
   "metadata": {},
   "outputs": [
    {
     "data": {
      "text/plain": [
       "array([[ 0,  1,  2,  3],\n",
       "       [ 4,  5,  6,  7],\n",
       "       [ 8,  9, 10, 11]])"
      ]
     },
     "execution_count": 52,
     "metadata": {},
     "output_type": "execute_result"
    }
   ],
   "source": [
    "X = np.arange(12).reshape(3,4)\n",
    "X\n"
   ]
  },
  {
   "cell_type": "code",
   "execution_count": 53,
   "id": "49cebff1",
   "metadata": {},
   "outputs": [
    {
     "name": "stdout",
     "output_type": "stream",
     "text": [
      "[12 15 18 21]\n",
      "[1.5 5.5 9.5]\n",
      "11 0\n"
     ]
    }
   ],
   "source": [
    "print(X.sum(axis=0))    # по столбцам\n",
    "print(X.mean(axis=1))   # по строкам\n",
    "print(X.max(), X.min())"
   ]
  },
  {
   "cell_type": "markdown",
   "id": "5aaeef94",
   "metadata": {},
   "source": [
    "## Pandas\n",
    "\n",
    "Если `numpy` — это универсальный инструмент для работы с векторами и многомерными массивами чисел, то `pandas` является специализированным инструментом для работы с табличными данными.\n",
    "\n",
    "В реальных проектах по анализу данных большинство данных имеет табличную вид в различных форматах(.csv, .parquet, .xlsx, SQL БД,  и т.п.), источников которых может быть буквально что угодно:\n",
    "\n",
    "- результаты измерений;\n",
    "- логи действий пользователей;\n",
    "- финансовые отчёты;\n",
    "- анкетные данные\n",
    "- еще тысяча, миллион вариантов\n",
    "\n",
    "Все эти данные удобно анализировать в виде таблиц с именованными колонками и индексами строк. Именно для этого был создан `pandas`."
   ]
  },
  {
   "cell_type": "code",
   "execution_count": 56,
   "id": "e1f58682",
   "metadata": {},
   "outputs": [],
   "source": [
    "import pandas as pd"
   ]
  },
  {
   "cell_type": "markdown",
   "id": "1356ec29",
   "metadata": {},
   "source": [
    "### Основные структуры данных: `Series` и `DataFrame`"
   ]
  },
  {
   "cell_type": "code",
   "execution_count": 57,
   "id": "10c84057",
   "metadata": {},
   "outputs": [
    {
     "data": {
      "text/plain": [
       "0    1.0\n",
       "1    3.0\n",
       "2    5.0\n",
       "3    NaN\n",
       "4    6.0\n",
       "5    8.0\n",
       "dtype: float64"
      ]
     },
     "execution_count": 57,
     "metadata": {},
     "output_type": "execute_result"
    }
   ],
   "source": [
    "s = pd.Series([1, 3, 5, np.nan, 6, 8])\n",
    "s"
   ]
  },
  {
   "cell_type": "markdown",
   "id": "8f41795f",
   "metadata": {},
   "source": [
    "- `index` — метки строк (в данном случае даты).\n",
    "- `columns` — метки столбцов (A, B, C, D).\n",
    "- каждая колонка — это Series."
   ]
  },
  {
   "cell_type": "code",
   "execution_count": 58,
   "id": "ad2f9ac6",
   "metadata": {},
   "outputs": [
    {
     "data": {
      "text/html": [
       "<div>\n",
       "<style scoped>\n",
       "    .dataframe tbody tr th:only-of-type {\n",
       "        vertical-align: middle;\n",
       "    }\n",
       "\n",
       "    .dataframe tbody tr th {\n",
       "        vertical-align: top;\n",
       "    }\n",
       "\n",
       "    .dataframe thead th {\n",
       "        text-align: right;\n",
       "    }\n",
       "</style>\n",
       "<table border=\"1\" class=\"dataframe\">\n",
       "  <thead>\n",
       "    <tr style=\"text-align: right;\">\n",
       "      <th></th>\n",
       "      <th>A</th>\n",
       "      <th>B</th>\n",
       "      <th>C</th>\n",
       "      <th>D</th>\n",
       "    </tr>\n",
       "  </thead>\n",
       "  <tbody>\n",
       "    <tr>\n",
       "      <th>2013-01-01</th>\n",
       "      <td>-0.794489</td>\n",
       "      <td>1.375534</td>\n",
       "      <td>-1.013184</td>\n",
       "      <td>0.645473</td>\n",
       "    </tr>\n",
       "    <tr>\n",
       "      <th>2013-01-02</th>\n",
       "      <td>1.469924</td>\n",
       "      <td>-0.228927</td>\n",
       "      <td>-1.631875</td>\n",
       "      <td>-0.987890</td>\n",
       "    </tr>\n",
       "    <tr>\n",
       "      <th>2013-01-03</th>\n",
       "      <td>-1.889706</td>\n",
       "      <td>1.117702</td>\n",
       "      <td>1.716975</td>\n",
       "      <td>-0.306159</td>\n",
       "    </tr>\n",
       "    <tr>\n",
       "      <th>2013-01-04</th>\n",
       "      <td>0.832507</td>\n",
       "      <td>-0.227694</td>\n",
       "      <td>-0.381189</td>\n",
       "      <td>0.451840</td>\n",
       "    </tr>\n",
       "    <tr>\n",
       "      <th>2013-01-05</th>\n",
       "      <td>0.710071</td>\n",
       "      <td>-1.728864</td>\n",
       "      <td>-1.419511</td>\n",
       "      <td>1.087412</td>\n",
       "    </tr>\n",
       "  </tbody>\n",
       "</table>\n",
       "</div>"
      ],
      "text/plain": [
       "                   A         B         C         D\n",
       "2013-01-01 -0.794489  1.375534 -1.013184  0.645473\n",
       "2013-01-02  1.469924 -0.228927 -1.631875 -0.987890\n",
       "2013-01-03 -1.889706  1.117702  1.716975 -0.306159\n",
       "2013-01-04  0.832507 -0.227694 -0.381189  0.451840\n",
       "2013-01-05  0.710071 -1.728864 -1.419511  1.087412"
      ]
     },
     "execution_count": 58,
     "metadata": {},
     "output_type": "execute_result"
    }
   ],
   "source": [
    "dates = pd.date_range(\"20130101\", periods=6)\n",
    "df = pd.DataFrame(np.random.randn(6, 4), index=dates, columns=list(\"ABCD\"))\n",
    "df.head()\n"
   ]
  },
  {
   "cell_type": "markdown",
   "id": "8158aa31",
   "metadata": {},
   "source": [
    "Датафрейм поддерживает смешанные типы в разных колонках: числа, даты, категориальные, строки."
   ]
  },
  {
   "cell_type": "code",
   "execution_count": 59,
   "id": "2a81785a",
   "metadata": {},
   "outputs": [
    {
     "data": {
      "text/html": [
       "<div>\n",
       "<style scoped>\n",
       "    .dataframe tbody tr th:only-of-type {\n",
       "        vertical-align: middle;\n",
       "    }\n",
       "\n",
       "    .dataframe tbody tr th {\n",
       "        vertical-align: top;\n",
       "    }\n",
       "\n",
       "    .dataframe thead th {\n",
       "        text-align: right;\n",
       "    }\n",
       "</style>\n",
       "<table border=\"1\" class=\"dataframe\">\n",
       "  <thead>\n",
       "    <tr style=\"text-align: right;\">\n",
       "      <th></th>\n",
       "      <th>A</th>\n",
       "      <th>B</th>\n",
       "      <th>C</th>\n",
       "      <th>D</th>\n",
       "      <th>E</th>\n",
       "      <th>F</th>\n",
       "    </tr>\n",
       "  </thead>\n",
       "  <tbody>\n",
       "    <tr>\n",
       "      <th>0</th>\n",
       "      <td>1.0</td>\n",
       "      <td>2013-01-02</td>\n",
       "      <td>1.0</td>\n",
       "      <td>3</td>\n",
       "      <td>test</td>\n",
       "      <td>foo</td>\n",
       "    </tr>\n",
       "    <tr>\n",
       "      <th>1</th>\n",
       "      <td>1.0</td>\n",
       "      <td>2013-01-02</td>\n",
       "      <td>1.0</td>\n",
       "      <td>3</td>\n",
       "      <td>train</td>\n",
       "      <td>foo</td>\n",
       "    </tr>\n",
       "    <tr>\n",
       "      <th>2</th>\n",
       "      <td>1.0</td>\n",
       "      <td>2013-01-02</td>\n",
       "      <td>1.0</td>\n",
       "      <td>3</td>\n",
       "      <td>test</td>\n",
       "      <td>foo</td>\n",
       "    </tr>\n",
       "    <tr>\n",
       "      <th>3</th>\n",
       "      <td>1.0</td>\n",
       "      <td>2013-01-02</td>\n",
       "      <td>1.0</td>\n",
       "      <td>3</td>\n",
       "      <td>train</td>\n",
       "      <td>foo</td>\n",
       "    </tr>\n",
       "  </tbody>\n",
       "</table>\n",
       "</div>"
      ],
      "text/plain": [
       "     A          B    C  D      E    F\n",
       "0  1.0 2013-01-02  1.0  3   test  foo\n",
       "1  1.0 2013-01-02  1.0  3  train  foo\n",
       "2  1.0 2013-01-02  1.0  3   test  foo\n",
       "3  1.0 2013-01-02  1.0  3  train  foo"
      ]
     },
     "execution_count": 59,
     "metadata": {},
     "output_type": "execute_result"
    }
   ],
   "source": [
    "df2 = pd.DataFrame({\n",
    "    \"A\": 1.0,\n",
    "    \"B\": pd.Timestamp(\"20130102\"),\n",
    "    \"C\": pd.Series(1, index=list(range(4)), dtype=\"float32\"),\n",
    "    \"D\": np.array([3] * 4, dtype=\"int32\"),\n",
    "    \"E\": pd.Categorical([\"test\", \"train\", \"test\", \"train\"]),\n",
    "    \"F\": \"foo\"\n",
    "})\n",
    "df2\n"
   ]
  },
  {
   "cell_type": "markdown",
   "id": "5e6a5e1c",
   "metadata": {},
   "source": [
    "### Первичный анализ данных"
   ]
  },
  {
   "cell_type": "code",
   "execution_count": 60,
   "id": "d0e80d25",
   "metadata": {},
   "outputs": [
    {
     "name": "stdout",
     "output_type": "stream",
     "text": [
      "<class 'pandas.core.frame.DataFrame'>\n",
      "DatetimeIndex: 6 entries, 2013-01-01 to 2013-01-06\n",
      "Freq: D\n",
      "Data columns (total 4 columns):\n",
      " #   Column  Non-Null Count  Dtype  \n",
      "---  ------  --------------  -----  \n",
      " 0   A       6 non-null      float64\n",
      " 1   B       6 non-null      float64\n",
      " 2   C       6 non-null      float64\n",
      " 3   D       6 non-null      float64\n",
      "dtypes: float64(4)\n",
      "memory usage: 240.0 bytes\n"
     ]
    }
   ],
   "source": [
    "df.info()"
   ]
  },
  {
   "cell_type": "code",
   "execution_count": 61,
   "id": "31a1b5f4",
   "metadata": {},
   "outputs": [
    {
     "data": {
      "text/html": [
       "<div>\n",
       "<style scoped>\n",
       "    .dataframe tbody tr th:only-of-type {\n",
       "        vertical-align: middle;\n",
       "    }\n",
       "\n",
       "    .dataframe tbody tr th {\n",
       "        vertical-align: top;\n",
       "    }\n",
       "\n",
       "    .dataframe thead th {\n",
       "        text-align: right;\n",
       "    }\n",
       "</style>\n",
       "<table border=\"1\" class=\"dataframe\">\n",
       "  <thead>\n",
       "    <tr style=\"text-align: right;\">\n",
       "      <th></th>\n",
       "      <th>A</th>\n",
       "      <th>B</th>\n",
       "      <th>C</th>\n",
       "      <th>D</th>\n",
       "    </tr>\n",
       "  </thead>\n",
       "  <tbody>\n",
       "    <tr>\n",
       "      <th>count</th>\n",
       "      <td>6.000000</td>\n",
       "      <td>6.000000</td>\n",
       "      <td>6.000000</td>\n",
       "      <td>6.000000</td>\n",
       "    </tr>\n",
       "    <tr>\n",
       "      <th>mean</th>\n",
       "      <td>0.210927</td>\n",
       "      <td>-0.235841</td>\n",
       "      <td>-0.644537</td>\n",
       "      <td>0.230454</td>\n",
       "    </tr>\n",
       "    <tr>\n",
       "      <th>std</th>\n",
       "      <td>1.278409</td>\n",
       "      <td>1.331831</td>\n",
       "      <td>1.232992</td>\n",
       "      <td>0.747847</td>\n",
       "    </tr>\n",
       "    <tr>\n",
       "      <th>min</th>\n",
       "      <td>-1.889706</td>\n",
       "      <td>-1.728864</td>\n",
       "      <td>-1.631875</td>\n",
       "      <td>-0.987890</td>\n",
       "    </tr>\n",
       "    <tr>\n",
       "      <th>25%</th>\n",
       "      <td>-0.418349</td>\n",
       "      <td>-1.349327</td>\n",
       "      <td>-1.349242</td>\n",
       "      <td>-0.116659</td>\n",
       "    </tr>\n",
       "    <tr>\n",
       "      <th>50%</th>\n",
       "      <td>0.771289</td>\n",
       "      <td>-0.228311</td>\n",
       "      <td>-1.075810</td>\n",
       "      <td>0.471944</td>\n",
       "    </tr>\n",
       "    <tr>\n",
       "      <th>75%</th>\n",
       "      <td>0.911068</td>\n",
       "      <td>0.781353</td>\n",
       "      <td>-0.539188</td>\n",
       "      <td>0.607117</td>\n",
       "    </tr>\n",
       "    <tr>\n",
       "      <th>max</th>\n",
       "      <td>1.469924</td>\n",
       "      <td>1.375534</td>\n",
       "      <td>1.716975</td>\n",
       "      <td>1.087412</td>\n",
       "    </tr>\n",
       "  </tbody>\n",
       "</table>\n",
       "</div>"
      ],
      "text/plain": [
       "              A         B         C         D\n",
       "count  6.000000  6.000000  6.000000  6.000000\n",
       "mean   0.210927 -0.235841 -0.644537  0.230454\n",
       "std    1.278409  1.331831  1.232992  0.747847\n",
       "min   -1.889706 -1.728864 -1.631875 -0.987890\n",
       "25%   -0.418349 -1.349327 -1.349242 -0.116659\n",
       "50%    0.771289 -0.228311 -1.075810  0.471944\n",
       "75%    0.911068  0.781353 -0.539188  0.607117\n",
       "max    1.469924  1.375534  1.716975  1.087412"
      ]
     },
     "execution_count": 61,
     "metadata": {},
     "output_type": "execute_result"
    }
   ],
   "source": [
    "df.describe(include=\"all\")"
   ]
  },
  {
   "cell_type": "code",
   "execution_count": 62,
   "id": "1f0b82d3",
   "metadata": {},
   "outputs": [
    {
     "data": {
      "text/html": [
       "<div>\n",
       "<style scoped>\n",
       "    .dataframe tbody tr th:only-of-type {\n",
       "        vertical-align: middle;\n",
       "    }\n",
       "\n",
       "    .dataframe tbody tr th {\n",
       "        vertical-align: top;\n",
       "    }\n",
       "\n",
       "    .dataframe thead th {\n",
       "        text-align: right;\n",
       "    }\n",
       "</style>\n",
       "<table border=\"1\" class=\"dataframe\">\n",
       "  <thead>\n",
       "    <tr style=\"text-align: right;\">\n",
       "      <th></th>\n",
       "      <th>A</th>\n",
       "      <th>B</th>\n",
       "      <th>C</th>\n",
       "      <th>D</th>\n",
       "    </tr>\n",
       "  </thead>\n",
       "  <tbody>\n",
       "    <tr>\n",
       "      <th>2013-01-01</th>\n",
       "      <td>-0.794489</td>\n",
       "      <td>1.375534</td>\n",
       "      <td>-1.013184</td>\n",
       "      <td>0.645473</td>\n",
       "    </tr>\n",
       "    <tr>\n",
       "      <th>2013-01-02</th>\n",
       "      <td>1.469924</td>\n",
       "      <td>-0.228927</td>\n",
       "      <td>-1.631875</td>\n",
       "      <td>-0.987890</td>\n",
       "    </tr>\n",
       "    <tr>\n",
       "      <th>2013-01-03</th>\n",
       "      <td>-1.889706</td>\n",
       "      <td>1.117702</td>\n",
       "      <td>1.716975</td>\n",
       "      <td>-0.306159</td>\n",
       "    </tr>\n",
       "    <tr>\n",
       "      <th>2013-01-04</th>\n",
       "      <td>0.832507</td>\n",
       "      <td>-0.227694</td>\n",
       "      <td>-0.381189</td>\n",
       "      <td>0.451840</td>\n",
       "    </tr>\n",
       "    <tr>\n",
       "      <th>2013-01-05</th>\n",
       "      <td>0.710071</td>\n",
       "      <td>-1.728864</td>\n",
       "      <td>-1.419511</td>\n",
       "      <td>1.087412</td>\n",
       "    </tr>\n",
       "  </tbody>\n",
       "</table>\n",
       "</div>"
      ],
      "text/plain": [
       "                   A         B         C         D\n",
       "2013-01-01 -0.794489  1.375534 -1.013184  0.645473\n",
       "2013-01-02  1.469924 -0.228927 -1.631875 -0.987890\n",
       "2013-01-03 -1.889706  1.117702  1.716975 -0.306159\n",
       "2013-01-04  0.832507 -0.227694 -0.381189  0.451840\n",
       "2013-01-05  0.710071 -1.728864 -1.419511  1.087412"
      ]
     },
     "execution_count": 62,
     "metadata": {},
     "output_type": "execute_result"
    }
   ],
   "source": [
    "df.head()"
   ]
  },
  {
   "cell_type": "code",
   "execution_count": 63,
   "id": "54fe159a",
   "metadata": {},
   "outputs": [
    {
     "data": {
      "text/html": [
       "<div>\n",
       "<style scoped>\n",
       "    .dataframe tbody tr th:only-of-type {\n",
       "        vertical-align: middle;\n",
       "    }\n",
       "\n",
       "    .dataframe tbody tr th {\n",
       "        vertical-align: top;\n",
       "    }\n",
       "\n",
       "    .dataframe thead th {\n",
       "        text-align: right;\n",
       "    }\n",
       "</style>\n",
       "<table border=\"1\" class=\"dataframe\">\n",
       "  <thead>\n",
       "    <tr style=\"text-align: right;\">\n",
       "      <th></th>\n",
       "      <th>A</th>\n",
       "      <th>B</th>\n",
       "      <th>C</th>\n",
       "      <th>D</th>\n",
       "    </tr>\n",
       "  </thead>\n",
       "  <tbody>\n",
       "    <tr>\n",
       "      <th>2013-01-02</th>\n",
       "      <td>1.469924</td>\n",
       "      <td>-0.228927</td>\n",
       "      <td>-1.631875</td>\n",
       "      <td>-0.987890</td>\n",
       "    </tr>\n",
       "    <tr>\n",
       "      <th>2013-01-03</th>\n",
       "      <td>-1.889706</td>\n",
       "      <td>1.117702</td>\n",
       "      <td>1.716975</td>\n",
       "      <td>-0.306159</td>\n",
       "    </tr>\n",
       "    <tr>\n",
       "      <th>2013-01-04</th>\n",
       "      <td>0.832507</td>\n",
       "      <td>-0.227694</td>\n",
       "      <td>-0.381189</td>\n",
       "      <td>0.451840</td>\n",
       "    </tr>\n",
       "    <tr>\n",
       "      <th>2013-01-05</th>\n",
       "      <td>0.710071</td>\n",
       "      <td>-1.728864</td>\n",
       "      <td>-1.419511</td>\n",
       "      <td>1.087412</td>\n",
       "    </tr>\n",
       "    <tr>\n",
       "      <th>2013-01-06</th>\n",
       "      <td>0.937255</td>\n",
       "      <td>-1.722794</td>\n",
       "      <td>-1.138437</td>\n",
       "      <td>0.492048</td>\n",
       "    </tr>\n",
       "  </tbody>\n",
       "</table>\n",
       "</div>"
      ],
      "text/plain": [
       "                   A         B         C         D\n",
       "2013-01-02  1.469924 -0.228927 -1.631875 -0.987890\n",
       "2013-01-03 -1.889706  1.117702  1.716975 -0.306159\n",
       "2013-01-04  0.832507 -0.227694 -0.381189  0.451840\n",
       "2013-01-05  0.710071 -1.728864 -1.419511  1.087412\n",
       "2013-01-06  0.937255 -1.722794 -1.138437  0.492048"
      ]
     },
     "execution_count": 63,
     "metadata": {},
     "output_type": "execute_result"
    }
   ],
   "source": [
    "df.tail()"
   ]
  },
  {
   "cell_type": "markdown",
   "id": "41da5416",
   "metadata": {},
   "source": [
    "### Индексация и выборка"
   ]
  },
  {
   "cell_type": "code",
   "execution_count": null,
   "id": "2544b96c",
   "metadata": {},
   "outputs": [],
   "source": [
    "df[\"A\"], df[[\"A\", \"B\"]]"
   ]
  },
  {
   "cell_type": "code",
   "execution_count": null,
   "id": "f1ce2a75",
   "metadata": {},
   "outputs": [],
   "source": [
    "df.loc[\"2013-01-02\":\"2013-01-04\", [\"A\", \"B\"]]\n"
   ]
  },
  {
   "cell_type": "code",
   "execution_count": null,
   "id": "c7a2c270",
   "metadata": {},
   "outputs": [],
   "source": [
    "df.iloc[1:4, 0:2]"
   ]
  },
  {
   "cell_type": "code",
   "execution_count": null,
   "id": "fb830e82",
   "metadata": {},
   "outputs": [],
   "source": [
    "mask = (df[\"A\"] > 0) & (df[\"B\"] < 0)\n",
    "df[mask]"
   ]
  },
  {
   "cell_type": "code",
   "execution_count": null,
   "id": "c8d4b421",
   "metadata": {},
   "outputs": [],
   "source": [
    "df.query(\"A > 0 and B < 0\")"
   ]
  },
  {
   "cell_type": "markdown",
   "id": "051f0cf3",
   "metadata": {},
   "source": [
    "### Операции над даннымии"
   ]
  },
  {
   "cell_type": "code",
   "execution_count": null,
   "id": "ac3b50ff",
   "metadata": {},
   "outputs": [],
   "source": [
    "df2 = df + df.iloc[0]\n",
    "df.mean(axis=0), df.mean(axis=1)"
   ]
  },
  {
   "cell_type": "code",
   "execution_count": null,
   "id": "86e0d423",
   "metadata": {},
   "outputs": [],
   "source": [
    "df.dropna()\n",
    "df.fillna(0)\n",
    "df.isna().sum()"
   ]
  },
  {
   "cell_type": "code",
   "execution_count": null,
   "id": "7c04e479",
   "metadata": {},
   "outputs": [],
   "source": [
    "df[\"Category\"] = [\"X\", \"Y\"] * 3\n",
    "\n",
    "df.groupby(\"Category\").mean()"
   ]
  },
  {
   "cell_type": "code",
   "execution_count": null,
   "id": "3df112dd",
   "metadata": {},
   "outputs": [],
   "source": [
    "pd.concat([df, df2])"
   ]
  },
  {
   "cell_type": "code",
   "execution_count": null,
   "id": "24bfcdec",
   "metadata": {},
   "outputs": [],
   "source": [
    "pd.merge(df.reset_index(), df2.reset_index(), on=\"index\", how=\"inner\")"
   ]
  },
  {
   "cell_type": "code",
   "execution_count": null,
   "id": "4431cfa3",
   "metadata": {},
   "outputs": [
    {
     "data": {
      "text/plain": [
       "<Axes: >"
      ]
     },
     "execution_count": 64,
     "metadata": {},
     "output_type": "execute_result"
    },
    {
     "data": {
      "image/png": "[encoded data removed]",
      "text/plain": [
       "<Figure size 640x480 with 1 Axes>"
      ]
     },
     "metadata": {},
     "output_type": "display_data"
    }
   ],
   "source": [
    "import matplotlib.pyplot as plt\n",
    "\n",
    "df.plot()"
   ]
  },
  {
   "cell_type": "code",
   "execution_count": 65,
   "id": "b76c0c5f",
   "metadata": {},
   "outputs": [
    {
     "data": {
      "image/png": "[encoded data removed]",
      "text/plain": [
       "<Figure size 640x480 with 1 Axes>"
      ]
     },
     "metadata": {},
     "output_type": "display_data"
    }
   ],
   "source": [
    "df[\"A\"].hist()\n",
    "plt.show()"
   ]
  }
 ],
 "metadata": {
  "kernelspec": {
   "display_name": "venv12 (3.12.4)",
   "language": "python",
   "name": "python3"
  },
  "language_info": {
   "codemirror_mode": {
    "name": "ipython",
    "version": 3
   },
   "file_extension": ".py",
   "mimetype": "text/x-python",
   "name": "python",
   "nbconvert_exporter": "python",
   "pygments_lexer": "ipython3",
   "version": "3.12.4"
  }
 },
 "nbformat": 4,
 "nbformat_minor": 5
}
