{
 "cells": [
  {
   "cell_type": "markdown",
   "id": "4496b27d",
   "metadata": {},
   "source": [
    "# Демо блокнот к Лекции №1. Знакомство со средствами обработки табличных данных языка Python"
   ]
  },
  {
   "cell_type": "code",
   "execution_count": null,
   "id": "a0fcc297",
   "metadata": {
    "vscode": {
     "languageId": "plaintext"
    }
   },
   "outputs": [],
   "source": []
  }
 ],
 "metadata": {
  "language_info": {
   "name": "python"
  }
 },
 "nbformat": 4,
 "nbformat_minor": 5
}
