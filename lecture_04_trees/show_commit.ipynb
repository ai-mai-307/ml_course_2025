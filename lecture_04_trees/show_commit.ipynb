{
 "cells": [
  {
   "cell_type": "markdown",
   "id": "1269f64a-b1a7-457f-a32b-72725cdf7d5e",
   "metadata": {},
   "source": [
    "# Блокнот для создания инструкции по созданию комита и его загрузки через Yandex Datasphere"
   ]
  }
 ],
 "metadata": {
  "kernelspec": {
   "display_name": "DataSphere Kernel",
   "language": "python",
   "name": "python3"
  },
  "language_info": {
   "codemirror_mode": {
    "name": "ipython",
    "version": 3
   },
   "file_extension": ".py",
   "mimetype": "text/x-python",
   "name": "python",
   "nbconvert_exporter": "python",
   "pygments_lexer": "ipython3",
   "version": "3.10.12"
  }
 },
 "nbformat": 4,
 "nbformat_minor": 5
}
