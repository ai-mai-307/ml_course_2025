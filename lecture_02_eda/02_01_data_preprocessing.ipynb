{
 "cells": [
  {
   "cell_type": "markdown",
   "id": "b30dacaf",
   "metadata": {},
   "source": [
    "# Демо блокнот к Лекции №2. Предварительная обработка данных"
   ]
  },
  {
   "cell_type": "markdown",
   "id": "4fd921f4",
   "metadata": {},
   "source": [
    "## Имортируем нужные зависимости"
   ]
  },
  {
   "cell_type": "code",
   "execution_count": 1,
   "id": "390b9dff",
   "metadata": {},
   "outputs": [],
   "source": [
    "import numpy as np\n",
    "import pandas as pd"
   ]
  },
  {
   "cell_type": "markdown",
   "id": "2874b550",
   "metadata": {},
   "source": [
    "## Загружаем наш демо-датасет"
   ]
  },
  {
   "cell_type": "code",
   "execution_count": 2,
   "id": "b9719786",
   "metadata": {},
   "outputs": [
    {
     "data": {
      "text/html": [
       "<div>\n",
       "<style scoped>\n",
       "    .dataframe tbody tr th:only-of-type {\n",
       "        vertical-align: middle;\n",
       "    }\n",
       "\n",
       "    .dataframe tbody tr th {\n",
       "        vertical-align: top;\n",
       "    }\n",
       "\n",
       "    .dataframe thead th {\n",
       "        text-align: right;\n",
       "    }\n",
       "</style>\n",
       "<table border=\"1\" class=\"dataframe\">\n",
       "  <thead>\n",
       "    <tr style=\"text-align: right;\">\n",
       "      <th></th>\n",
       "      <th>CustomerID</th>\n",
       "      <th>Count</th>\n",
       "      <th>Country</th>\n",
       "      <th>State</th>\n",
       "      <th>City</th>\n",
       "      <th>Zip Code</th>\n",
       "      <th>Lat Long</th>\n",
       "      <th>Latitude</th>\n",
       "      <th>Longitude</th>\n",
       "      <th>Gender</th>\n",
       "      <th>...</th>\n",
       "      <th>Contract</th>\n",
       "      <th>Paperless Billing</th>\n",
       "      <th>Payment Method</th>\n",
       "      <th>Monthly Charges</th>\n",
       "      <th>Total Charges</th>\n",
       "      <th>Churn Label</th>\n",
       "      <th>Churn Value</th>\n",
       "      <th>Churn Score</th>\n",
       "      <th>CLTV</th>\n",
       "      <th>Churn Reason</th>\n",
       "    </tr>\n",
       "  </thead>\n",
       "  <tbody>\n",
       "    <tr>\n",
       "      <th>0</th>\n",
       "      <td>3668-QPYBK</td>\n",
       "      <td>1</td>\n",
       "      <td>United States</td>\n",
       "      <td>California</td>\n",
       "      <td>Los Angeles</td>\n",
       "      <td>90003</td>\n",
       "      <td>33.964131, -118.272783</td>\n",
       "      <td>33.964131</td>\n",
       "      <td>-118.272783</td>\n",
       "      <td>Male</td>\n",
       "      <td>...</td>\n",
       "      <td>Month-to-month</td>\n",
       "      <td>Yes</td>\n",
       "      <td>Mailed check</td>\n",
       "      <td>53.85</td>\n",
       "      <td>108.15</td>\n",
       "      <td>Yes</td>\n",
       "      <td>1</td>\n",
       "      <td>86</td>\n",
       "      <td>3239</td>\n",
       "      <td>Competitor made better offer</td>\n",
       "    </tr>\n",
       "    <tr>\n",
       "      <th>1</th>\n",
       "      <td>9237-HQITU</td>\n",
       "      <td>1</td>\n",
       "      <td>United States</td>\n",
       "      <td>California</td>\n",
       "      <td>Los Angeles</td>\n",
       "      <td>90005</td>\n",
       "      <td>34.059281, -118.30742</td>\n",
       "      <td>34.059281</td>\n",
       "      <td>-118.307420</td>\n",
       "      <td>Female</td>\n",
       "      <td>...</td>\n",
       "      <td>Month-to-month</td>\n",
       "      <td>Yes</td>\n",
       "      <td>Electronic check</td>\n",
       "      <td>70.70</td>\n",
       "      <td>151.65</td>\n",
       "      <td>Yes</td>\n",
       "      <td>1</td>\n",
       "      <td>67</td>\n",
       "      <td>2701</td>\n",
       "      <td>Moved</td>\n",
       "    </tr>\n",
       "    <tr>\n",
       "      <th>2</th>\n",
       "      <td>9305-CDSKC</td>\n",
       "      <td>1</td>\n",
       "      <td>United States</td>\n",
       "      <td>California</td>\n",
       "      <td>Los Angeles</td>\n",
       "      <td>90006</td>\n",
       "      <td>34.048013, -118.293953</td>\n",
       "      <td>34.048013</td>\n",
       "      <td>-118.293953</td>\n",
       "      <td>Female</td>\n",
       "      <td>...</td>\n",
       "      <td>Month-to-month</td>\n",
       "      <td>Yes</td>\n",
       "      <td>Electronic check</td>\n",
       "      <td>99.65</td>\n",
       "      <td>820.5</td>\n",
       "      <td>Yes</td>\n",
       "      <td>1</td>\n",
       "      <td>86</td>\n",
       "      <td>5372</td>\n",
       "      <td>Moved</td>\n",
       "    </tr>\n",
       "    <tr>\n",
       "      <th>3</th>\n",
       "      <td>7892-POOKP</td>\n",
       "      <td>1</td>\n",
       "      <td>United States</td>\n",
       "      <td>California</td>\n",
       "      <td>Los Angeles</td>\n",
       "      <td>90010</td>\n",
       "      <td>34.062125, -118.315709</td>\n",
       "      <td>34.062125</td>\n",
       "      <td>-118.315709</td>\n",
       "      <td>Female</td>\n",
       "      <td>...</td>\n",
       "      <td>Month-to-month</td>\n",
       "      <td>Yes</td>\n",
       "      <td>Electronic check</td>\n",
       "      <td>104.80</td>\n",
       "      <td>3046.05</td>\n",
       "      <td>Yes</td>\n",
       "      <td>1</td>\n",
       "      <td>84</td>\n",
       "      <td>5003</td>\n",
       "      <td>Moved</td>\n",
       "    </tr>\n",
       "    <tr>\n",
       "      <th>4</th>\n",
       "      <td>0280-XJGEX</td>\n",
       "      <td>1</td>\n",
       "      <td>United States</td>\n",
       "      <td>California</td>\n",
       "      <td>Los Angeles</td>\n",
       "      <td>90015</td>\n",
       "      <td>34.039224, -118.266293</td>\n",
       "      <td>34.039224</td>\n",
       "      <td>-118.266293</td>\n",
       "      <td>Male</td>\n",
       "      <td>...</td>\n",
       "      <td>Month-to-month</td>\n",
       "      <td>Yes</td>\n",
       "      <td>Bank transfer (automatic)</td>\n",
       "      <td>103.70</td>\n",
       "      <td>5036.3</td>\n",
       "      <td>Yes</td>\n",
       "      <td>1</td>\n",
       "      <td>89</td>\n",
       "      <td>5340</td>\n",
       "      <td>Competitor had better devices</td>\n",
       "    </tr>\n",
       "    <tr>\n",
       "      <th>...</th>\n",
       "      <td>...</td>\n",
       "      <td>...</td>\n",
       "      <td>...</td>\n",
       "      <td>...</td>\n",
       "      <td>...</td>\n",
       "      <td>...</td>\n",
       "      <td>...</td>\n",
       "      <td>...</td>\n",
       "      <td>...</td>\n",
       "      <td>...</td>\n",
       "      <td>...</td>\n",
       "      <td>...</td>\n",
       "      <td>...</td>\n",
       "      <td>...</td>\n",
       "      <td>...</td>\n",
       "      <td>...</td>\n",
       "      <td>...</td>\n",
       "      <td>...</td>\n",
       "      <td>...</td>\n",
       "      <td>...</td>\n",
       "      <td>...</td>\n",
       "    </tr>\n",
       "    <tr>\n",
       "      <th>7038</th>\n",
       "      <td>2569-WGERO</td>\n",
       "      <td>1</td>\n",
       "      <td>United States</td>\n",
       "      <td>California</td>\n",
       "      <td>Landers</td>\n",
       "      <td>92285</td>\n",
       "      <td>34.341737, -116.539416</td>\n",
       "      <td>34.341737</td>\n",
       "      <td>-116.539416</td>\n",
       "      <td>Female</td>\n",
       "      <td>...</td>\n",
       "      <td>Two year</td>\n",
       "      <td>Yes</td>\n",
       "      <td>Bank transfer (automatic)</td>\n",
       "      <td>21.15</td>\n",
       "      <td>1419.4</td>\n",
       "      <td>No</td>\n",
       "      <td>0</td>\n",
       "      <td>45</td>\n",
       "      <td>5306</td>\n",
       "      <td>NaN</td>\n",
       "    </tr>\n",
       "    <tr>\n",
       "      <th>7039</th>\n",
       "      <td>6840-RESVB</td>\n",
       "      <td>1</td>\n",
       "      <td>United States</td>\n",
       "      <td>California</td>\n",
       "      <td>Adelanto</td>\n",
       "      <td>92301</td>\n",
       "      <td>34.667815, -117.536183</td>\n",
       "      <td>34.667815</td>\n",
       "      <td>-117.536183</td>\n",
       "      <td>Male</td>\n",
       "      <td>...</td>\n",
       "      <td>One year</td>\n",
       "      <td>Yes</td>\n",
       "      <td>Mailed check</td>\n",
       "      <td>84.80</td>\n",
       "      <td>1990.5</td>\n",
       "      <td>No</td>\n",
       "      <td>0</td>\n",
       "      <td>59</td>\n",
       "      <td>2140</td>\n",
       "      <td>NaN</td>\n",
       "    </tr>\n",
       "    <tr>\n",
       "      <th>7040</th>\n",
       "      <td>2234-XADUH</td>\n",
       "      <td>1</td>\n",
       "      <td>United States</td>\n",
       "      <td>California</td>\n",
       "      <td>Amboy</td>\n",
       "      <td>92304</td>\n",
       "      <td>34.559882, -115.637164</td>\n",
       "      <td>34.559882</td>\n",
       "      <td>-115.637164</td>\n",
       "      <td>Female</td>\n",
       "      <td>...</td>\n",
       "      <td>One year</td>\n",
       "      <td>Yes</td>\n",
       "      <td>Credit card (automatic)</td>\n",
       "      <td>103.20</td>\n",
       "      <td>7362.9</td>\n",
       "      <td>No</td>\n",
       "      <td>0</td>\n",
       "      <td>71</td>\n",
       "      <td>5560</td>\n",
       "      <td>NaN</td>\n",
       "    </tr>\n",
       "    <tr>\n",
       "      <th>7041</th>\n",
       "      <td>4801-JZAZL</td>\n",
       "      <td>1</td>\n",
       "      <td>United States</td>\n",
       "      <td>California</td>\n",
       "      <td>Angelus Oaks</td>\n",
       "      <td>92305</td>\n",
       "      <td>34.1678, -116.86433</td>\n",
       "      <td>34.167800</td>\n",
       "      <td>-116.864330</td>\n",
       "      <td>Female</td>\n",
       "      <td>...</td>\n",
       "      <td>Month-to-month</td>\n",
       "      <td>Yes</td>\n",
       "      <td>Electronic check</td>\n",
       "      <td>29.60</td>\n",
       "      <td>346.45</td>\n",
       "      <td>No</td>\n",
       "      <td>0</td>\n",
       "      <td>59</td>\n",
       "      <td>2793</td>\n",
       "      <td>NaN</td>\n",
       "    </tr>\n",
       "    <tr>\n",
       "      <th>7042</th>\n",
       "      <td>3186-AJIEK</td>\n",
       "      <td>1</td>\n",
       "      <td>United States</td>\n",
       "      <td>California</td>\n",
       "      <td>Apple Valley</td>\n",
       "      <td>92308</td>\n",
       "      <td>34.424926, -117.184503</td>\n",
       "      <td>34.424926</td>\n",
       "      <td>-117.184503</td>\n",
       "      <td>Male</td>\n",
       "      <td>...</td>\n",
       "      <td>Two year</td>\n",
       "      <td>Yes</td>\n",
       "      <td>Bank transfer (automatic)</td>\n",
       "      <td>105.65</td>\n",
       "      <td>6844.5</td>\n",
       "      <td>No</td>\n",
       "      <td>0</td>\n",
       "      <td>38</td>\n",
       "      <td>5097</td>\n",
       "      <td>NaN</td>\n",
       "    </tr>\n",
       "  </tbody>\n",
       "</table>\n",
       "<p>7043 rows × 33 columns</p>\n",
       "</div>"
      ],
      "text/plain": [
       "      CustomerID  Count        Country       State          City  Zip Code  \\\n",
       "0     3668-QPYBK      1  United States  California   Los Angeles     90003   \n",
       "1     9237-HQITU      1  United States  California   Los Angeles     90005   \n",
       "2     9305-CDSKC      1  United States  California   Los Angeles     90006   \n",
       "3     7892-POOKP      1  United States  California   Los Angeles     90010   \n",
       "4     0280-XJGEX      1  United States  California   Los Angeles     90015   \n",
       "...          ...    ...            ...         ...           ...       ...   \n",
       "7038  2569-WGERO      1  United States  California       Landers     92285   \n",
       "7039  6840-RESVB      1  United States  California      Adelanto     92301   \n",
       "7040  2234-XADUH      1  United States  California         Amboy     92304   \n",
       "7041  4801-JZAZL      1  United States  California  Angelus Oaks     92305   \n",
       "7042  3186-AJIEK      1  United States  California  Apple Valley     92308   \n",
       "\n",
       "                    Lat Long   Latitude   Longitude  Gender  ...  \\\n",
       "0     33.964131, -118.272783  33.964131 -118.272783    Male  ...   \n",
       "1      34.059281, -118.30742  34.059281 -118.307420  Female  ...   \n",
       "2     34.048013, -118.293953  34.048013 -118.293953  Female  ...   \n",
       "3     34.062125, -118.315709  34.062125 -118.315709  Female  ...   \n",
       "4     34.039224, -118.266293  34.039224 -118.266293    Male  ...   \n",
       "...                      ...        ...         ...     ...  ...   \n",
       "7038  34.341737, -116.539416  34.341737 -116.539416  Female  ...   \n",
       "7039  34.667815, -117.536183  34.667815 -117.536183    Male  ...   \n",
       "7040  34.559882, -115.637164  34.559882 -115.637164  Female  ...   \n",
       "7041     34.1678, -116.86433  34.167800 -116.864330  Female  ...   \n",
       "7042  34.424926, -117.184503  34.424926 -117.184503    Male  ...   \n",
       "\n",
       "            Contract Paperless Billing             Payment Method  \\\n",
       "0     Month-to-month               Yes               Mailed check   \n",
       "1     Month-to-month               Yes           Electronic check   \n",
       "2     Month-to-month               Yes           Electronic check   \n",
       "3     Month-to-month               Yes           Electronic check   \n",
       "4     Month-to-month               Yes  Bank transfer (automatic)   \n",
       "...              ...               ...                        ...   \n",
       "7038        Two year               Yes  Bank transfer (automatic)   \n",
       "7039        One year               Yes               Mailed check   \n",
       "7040        One year               Yes    Credit card (automatic)   \n",
       "7041  Month-to-month               Yes           Electronic check   \n",
       "7042        Two year               Yes  Bank transfer (automatic)   \n",
       "\n",
       "      Monthly Charges Total Charges Churn Label Churn Value Churn Score  CLTV  \\\n",
       "0               53.85        108.15         Yes           1          86  3239   \n",
       "1               70.70        151.65         Yes           1          67  2701   \n",
       "2               99.65         820.5         Yes           1          86  5372   \n",
       "3              104.80       3046.05         Yes           1          84  5003   \n",
       "4              103.70        5036.3         Yes           1          89  5340   \n",
       "...               ...           ...         ...         ...         ...   ...   \n",
       "7038            21.15        1419.4          No           0          45  5306   \n",
       "7039            84.80        1990.5          No           0          59  2140   \n",
       "7040           103.20        7362.9          No           0          71  5560   \n",
       "7041            29.60        346.45          No           0          59  2793   \n",
       "7042           105.65        6844.5          No           0          38  5097   \n",
       "\n",
       "                       Churn Reason  \n",
       "0      Competitor made better offer  \n",
       "1                             Moved  \n",
       "2                             Moved  \n",
       "3                             Moved  \n",
       "4     Competitor had better devices  \n",
       "...                             ...  \n",
       "7038                            NaN  \n",
       "7039                            NaN  \n",
       "7040                            NaN  \n",
       "7041                            NaN  \n",
       "7042                            NaN  \n",
       "\n",
       "[7043 rows x 33 columns]"
      ]
     },
     "execution_count": 2,
     "metadata": {},
     "output_type": "execute_result"
    }
   ],
   "source": [
    "df = pd.read_excel(r'D:\\Datasets\\Telco_customer_churn.xlsx', sheet_name='Telco_Churn')\n",
    "df"
   ]
  },
  {
   "cell_type": "code",
   "execution_count": 3,
   "id": "147827d5",
   "metadata": {},
   "outputs": [
    {
     "name": "stdout",
     "output_type": "stream",
     "text": [
      "<class 'pandas.core.frame.DataFrame'>\n",
      "RangeIndex: 7043 entries, 0 to 7042\n",
      "Data columns (total 33 columns):\n",
      " #   Column             Non-Null Count  Dtype  \n",
      "---  ------             --------------  -----  \n",
      " 0   CustomerID         7043 non-null   object \n",
      " 1   Count              7043 non-null   int64  \n",
      " 2   Country            7043 non-null   object \n",
      " 3   State              7043 non-null   object \n",
      " 4   City               7043 non-null   object \n",
      " 5   Zip Code           7043 non-null   int64  \n",
      " 6   Lat Long           7043 non-null   object \n",
      " 7   Latitude           7043 non-null   float64\n",
      " 8   Longitude          7043 non-null   float64\n",
      " 9   Gender             7043 non-null   object \n",
      " 10  Senior Citizen     7043 non-null   object \n",
      " 11  Partner            7043 non-null   object \n",
      " 12  Dependents         7043 non-null   object \n",
      " 13  Tenure Months      7043 non-null   int64  \n",
      " 14  Phone Service      7043 non-null   object \n",
      " 15  Multiple Lines     7043 non-null   object \n",
      " 16  Internet Service   7043 non-null   object \n",
      " 17  Online Security    7043 non-null   object \n",
      " 18  Online Backup      7043 non-null   object \n",
      " 19  Device Protection  7043 non-null   object \n",
      " 20  Tech Support       7043 non-null   object \n",
      " 21  Streaming TV       7043 non-null   object \n",
      " 22  Streaming Movies   7043 non-null   object \n",
      " 23  Contract           7043 non-null   object \n",
      " 24  Paperless Billing  7043 non-null   object \n",
      " 25  Payment Method     7043 non-null   object \n",
      " 26  Monthly Charges    7043 non-null   float64\n",
      " 27  Total Charges      7043 non-null   object \n",
      " 28  Churn Label        7043 non-null   object \n",
      " 29  Churn Value        7043 non-null   int64  \n",
      " 30  Churn Score        7043 non-null   int64  \n",
      " 31  CLTV               7043 non-null   int64  \n",
      " 32  Churn Reason       1869 non-null   object \n",
      "dtypes: float64(3), int64(6), object(24)\n",
      "memory usage: 1.8+ MB\n"
     ]
    }
   ],
   "source": [
    "df.info()"
   ]
  },
  {
   "cell_type": "code",
   "execution_count": 4,
   "id": "aea759c1",
   "metadata": {},
   "outputs": [
    {
     "data": {
      "text/plain": [
       "count    7043.000000\n",
       "mean       32.371149\n",
       "std        24.559481\n",
       "min         0.000000\n",
       "25%         9.000000\n",
       "50%        29.000000\n",
       "75%        55.000000\n",
       "max        72.000000\n",
       "Name: Tenure Months, dtype: float64"
      ]
     },
     "execution_count": 4,
     "metadata": {},
     "output_type": "execute_result"
    }
   ],
   "source": [
    "tenure_months = df['Tenure Months']\n",
    "tenure_months.describe()"
   ]
  },
  {
   "cell_type": "markdown",
   "id": "efbd28cd",
   "metadata": {},
   "source": [
    "## Масштабирование и нормализация\n",
    "\n",
    "### Min-Max scaling"
   ]
  },
  {
   "cell_type": "code",
   "execution_count": 5,
   "id": "4f694819",
   "metadata": {},
   "outputs": [
    {
     "data": {
      "text/plain": [
       "count    7043.000000\n",
       "mean        0.449599\n",
       "std         0.341104\n",
       "min         0.000000\n",
       "25%         0.125000\n",
       "50%         0.402778\n",
       "75%         0.763889\n",
       "max         1.000000\n",
       "Name: Tenure Months, dtype: float64"
      ]
     },
     "execution_count": 5,
     "metadata": {},
     "output_type": "execute_result"
    }
   ],
   "source": [
    "min_tenure = tenure_months.min()\n",
    "max_tenure = tenure_months.max()\n",
    "\n",
    "tenure_months_scaled = (tenure_months - min_tenure) / (max_tenure - min_tenure)\n",
    "tenure_months_scaled.describe()"
   ]
  },
  {
   "cell_type": "code",
   "execution_count": 6,
   "id": "148b124e",
   "metadata": {},
   "outputs": [],
   "source": [
    "def min_max_scaling(x: pd.Series) -> pd.Series:\n",
    "    min_x = x.min()\n",
    "    max_x = x.max()\n",
    "    return (x - min_x) / (max_x - min_x)"
   ]
  },
  {
   "cell_type": "code",
   "execution_count": 7,
   "id": "76ac9c73",
   "metadata": {},
   "outputs": [
    {
     "data": {
      "text/plain": [
       "count    7043.000000\n",
       "mean       58.699418\n",
       "std        21.525131\n",
       "min         5.000000\n",
       "25%        40.000000\n",
       "50%        61.000000\n",
       "75%        75.000000\n",
       "max       100.000000\n",
       "Name: Churn Score, dtype: float64"
      ]
     },
     "execution_count": 7,
     "metadata": {},
     "output_type": "execute_result"
    }
   ],
   "source": [
    "df['Churn Score'].describe()"
   ]
  },
  {
   "cell_type": "code",
   "execution_count": 8,
   "id": "89cdc569",
   "metadata": {},
   "outputs": [
    {
     "data": {
      "text/plain": [
       "count    7043.000000\n",
       "mean        0.565257\n",
       "std         0.226580\n",
       "min         0.000000\n",
       "25%         0.368421\n",
       "50%         0.589474\n",
       "75%         0.736842\n",
       "max         1.000000\n",
       "Name: Churn Score, dtype: float64"
      ]
     },
     "execution_count": 8,
     "metadata": {},
     "output_type": "execute_result"
    }
   ],
   "source": [
    "df['Churn Score'] = min_max_scaling(df['Churn Score'])\n",
    "df['Churn Score'].describe()"
   ]
  },
  {
   "cell_type": "markdown",
   "id": "798442fc",
   "metadata": {},
   "source": [
    "## Стандартизация"
   ]
  },
  {
   "cell_type": "code",
   "execution_count": 9,
   "id": "5d03ece0",
   "metadata": {},
   "outputs": [
    {
     "data": {
      "text/plain": [
       "count    7043.000000\n",
       "mean     4400.295755\n",
       "std      1183.057152\n",
       "min      2003.000000\n",
       "25%      3469.000000\n",
       "50%      4527.000000\n",
       "75%      5380.500000\n",
       "max      6500.000000\n",
       "Name: CLTV, dtype: float64"
      ]
     },
     "execution_count": 9,
     "metadata": {},
     "output_type": "execute_result"
    }
   ],
   "source": [
    "df['CLTV'].describe()"
   ]
  },
  {
   "cell_type": "code",
   "execution_count": 10,
   "id": "846251a3",
   "metadata": {},
   "outputs": [
    {
     "data": {
      "text/plain": [
       "<Axes: title={'center': 'CLTV Distribution'}, ylabel='Frequency'>"
      ]
     },
     "execution_count": 10,
     "metadata": {},
     "output_type": "execute_result"
    },
    {
     "data": {
      "image/png": "[encoded data removed]",
      "text/plain": [
       "<Figure size 640x480 with 1 Axes>"
      ]
     },
     "metadata": {},
     "output_type": "display_data"
    }
   ],
   "source": [
    "df['CLTV'].plot(kind='hist', bins=300, title='CLTV Distribution')"
   ]
  },
  {
   "cell_type": "code",
   "execution_count": 11,
   "id": "c5389b1f",
   "metadata": {},
   "outputs": [
    {
     "data": {
      "text/plain": [
       "<Axes: title={'center': 'Standardized CLTV Distribution'}, ylabel='Frequency'>"
      ]
     },
     "execution_count": 11,
     "metadata": {},
     "output_type": "execute_result"
    },
    {
     "data": {
      "image/png": "[encoded data removed]",
      "text/plain": [
       "<Figure size 640x480 with 1 Axes>"
      ]
     },
     "metadata": {},
     "output_type": "display_data"
    }
   ],
   "source": [
    "def standardization(x: pd.Series) -> pd.Series:\n",
    "    mean_x = x.mean()\n",
    "    std_x = x.std()\n",
    "    return (x - mean_x) / std_x\n",
    "\n",
    "df['CLTV'] = standardization(df['CLTV'])\n",
    "df['CLTV'].plot(kind='hist', bins=300, title='Standardized CLTV Distribution')"
   ]
  },
  {
   "cell_type": "code",
   "execution_count": 12,
   "id": "3e0c4b1a",
   "metadata": {},
   "outputs": [
    {
     "data": {
      "text/plain": [
       "count    7.043000e+03\n",
       "mean    -2.824818e-16\n",
       "std      1.000000e+00\n",
       "min     -2.026357e+00\n",
       "25%     -7.871942e-01\n",
       "50%      1.070990e-01\n",
       "75%      8.285350e-01\n",
       "max      1.774812e+00\n",
       "Name: CLTV, dtype: float64"
      ]
     },
     "execution_count": 12,
     "metadata": {},
     "output_type": "execute_result"
    }
   ],
   "source": [
    "df['CLTV'].describe()"
   ]
  },
  {
   "cell_type": "markdown",
   "id": "caae20b7",
   "metadata": {},
   "source": [
    "## Кодирование категориальных признаков\n",
    "\n",
    "Прежде чем реализовывать конкретные методы и смотреть как они работают, посмотрим на категориальные признаки в наших данных и сколько в них уникальных значений."
   ]
  },
  {
   "cell_type": "code",
   "execution_count": 13,
   "id": "d9c9b330",
   "metadata": {},
   "outputs": [
    {
     "data": {
      "text/plain": [
       "CustomerID           7043\n",
       "Country                 1\n",
       "State                   1\n",
       "City                 1129\n",
       "Lat Long             1652\n",
       "Gender                  2\n",
       "Senior Citizen          2\n",
       "Partner                 2\n",
       "Dependents              2\n",
       "Phone Service           2\n",
       "Multiple Lines          3\n",
       "Internet Service        3\n",
       "Online Security         3\n",
       "Online Backup           3\n",
       "Device Protection       3\n",
       "Tech Support            3\n",
       "Streaming TV            3\n",
       "Streaming Movies        3\n",
       "Contract                3\n",
       "Paperless Billing       2\n",
       "Payment Method          4\n",
       "Total Charges        6531\n",
       "Churn Label             2\n",
       "Churn Reason           20\n",
       "dtype: int64"
      ]
     },
     "execution_count": 13,
     "metadata": {},
     "output_type": "execute_result"
    }
   ],
   "source": [
    "df.select_dtypes(include=['object']).nunique()"
   ]
  },
  {
   "cell_type": "code",
   "execution_count": 14,
   "id": "1a554071",
   "metadata": {},
   "outputs": [
    {
     "data": {
      "text/plain": [
       "Payment Method\n",
       "Electronic check             2365\n",
       "Mailed check                 1612\n",
       "Bank transfer (automatic)    1544\n",
       "Credit card (automatic)      1522\n",
       "Name: count, dtype: int64"
      ]
     },
     "execution_count": 14,
     "metadata": {},
     "output_type": "execute_result"
    }
   ],
   "source": [
    "df['Payment Method'].value_counts()"
   ]
  },
  {
   "cell_type": "code",
   "execution_count": 15,
   "id": "065508d2",
   "metadata": {},
   "outputs": [
    {
     "data": {
      "text/html": [
       "<div>\n",
       "<style scoped>\n",
       "    .dataframe tbody tr th:only-of-type {\n",
       "        vertical-align: middle;\n",
       "    }\n",
       "\n",
       "    .dataframe tbody tr th {\n",
       "        vertical-align: top;\n",
       "    }\n",
       "\n",
       "    .dataframe thead th {\n",
       "        text-align: right;\n",
       "    }\n",
       "</style>\n",
       "<table border=\"1\" class=\"dataframe\">\n",
       "  <thead>\n",
       "    <tr style=\"text-align: right;\">\n",
       "      <th></th>\n",
       "      <th>Bank transfer (automatic)</th>\n",
       "      <th>Credit card (automatic)</th>\n",
       "      <th>Electronic check</th>\n",
       "      <th>Mailed check</th>\n",
       "    </tr>\n",
       "  </thead>\n",
       "  <tbody>\n",
       "    <tr>\n",
       "      <th>0</th>\n",
       "      <td>0.0</td>\n",
       "      <td>0.0</td>\n",
       "      <td>0.0</td>\n",
       "      <td>1.0</td>\n",
       "    </tr>\n",
       "    <tr>\n",
       "      <th>1</th>\n",
       "      <td>0.0</td>\n",
       "      <td>0.0</td>\n",
       "      <td>1.0</td>\n",
       "      <td>0.0</td>\n",
       "    </tr>\n",
       "    <tr>\n",
       "      <th>2</th>\n",
       "      <td>0.0</td>\n",
       "      <td>0.0</td>\n",
       "      <td>1.0</td>\n",
       "      <td>0.0</td>\n",
       "    </tr>\n",
       "    <tr>\n",
       "      <th>3</th>\n",
       "      <td>0.0</td>\n",
       "      <td>0.0</td>\n",
       "      <td>1.0</td>\n",
       "      <td>0.0</td>\n",
       "    </tr>\n",
       "    <tr>\n",
       "      <th>4</th>\n",
       "      <td>1.0</td>\n",
       "      <td>0.0</td>\n",
       "      <td>0.0</td>\n",
       "      <td>0.0</td>\n",
       "    </tr>\n",
       "    <tr>\n",
       "      <th>...</th>\n",
       "      <td>...</td>\n",
       "      <td>...</td>\n",
       "      <td>...</td>\n",
       "      <td>...</td>\n",
       "    </tr>\n",
       "    <tr>\n",
       "      <th>7038</th>\n",
       "      <td>1.0</td>\n",
       "      <td>0.0</td>\n",
       "      <td>0.0</td>\n",
       "      <td>0.0</td>\n",
       "    </tr>\n",
       "    <tr>\n",
       "      <th>7039</th>\n",
       "      <td>0.0</td>\n",
       "      <td>0.0</td>\n",
       "      <td>0.0</td>\n",
       "      <td>1.0</td>\n",
       "    </tr>\n",
       "    <tr>\n",
       "      <th>7040</th>\n",
       "      <td>0.0</td>\n",
       "      <td>1.0</td>\n",
       "      <td>0.0</td>\n",
       "      <td>0.0</td>\n",
       "    </tr>\n",
       "    <tr>\n",
       "      <th>7041</th>\n",
       "      <td>0.0</td>\n",
       "      <td>0.0</td>\n",
       "      <td>1.0</td>\n",
       "      <td>0.0</td>\n",
       "    </tr>\n",
       "    <tr>\n",
       "      <th>7042</th>\n",
       "      <td>1.0</td>\n",
       "      <td>0.0</td>\n",
       "      <td>0.0</td>\n",
       "      <td>0.0</td>\n",
       "    </tr>\n",
       "  </tbody>\n",
       "</table>\n",
       "<p>7043 rows × 4 columns</p>\n",
       "</div>"
      ],
      "text/plain": [
       "      Bank transfer (automatic)  Credit card (automatic)  Electronic check  \\\n",
       "0                           0.0                      0.0               0.0   \n",
       "1                           0.0                      0.0               1.0   \n",
       "2                           0.0                      0.0               1.0   \n",
       "3                           0.0                      0.0               1.0   \n",
       "4                           1.0                      0.0               0.0   \n",
       "...                         ...                      ...               ...   \n",
       "7038                        1.0                      0.0               0.0   \n",
       "7039                        0.0                      0.0               0.0   \n",
       "7040                        0.0                      1.0               0.0   \n",
       "7041                        0.0                      0.0               1.0   \n",
       "7042                        1.0                      0.0               0.0   \n",
       "\n",
       "      Mailed check  \n",
       "0              1.0  \n",
       "1              0.0  \n",
       "2              0.0  \n",
       "3              0.0  \n",
       "4              0.0  \n",
       "...            ...  \n",
       "7038           0.0  \n",
       "7039           1.0  \n",
       "7040           0.0  \n",
       "7041           0.0  \n",
       "7042           0.0  \n",
       "\n",
       "[7043 rows x 4 columns]"
      ]
     },
     "execution_count": 15,
     "metadata": {},
     "output_type": "execute_result"
    }
   ],
   "source": [
    "def one_hot_encoding(x: pd.Series) -> pd.DataFrame:\n",
    "    encoding = np.zeros((x.shape[0], x.nunique()))\n",
    "    codes = x.astype('category').cat.codes\n",
    "    encoding[np.arange(x.shape[0]), codes] = 1\n",
    "    \n",
    "    return pd.DataFrame(encoding, columns=x.astype('category').cat.categories)\n",
    "\n",
    "\n",
    "one_hot_encoding(df['Payment Method'])\n"
   ]
  },
  {
   "cell_type": "markdown",
   "id": "e9b9e4b0",
   "metadata": {},
   "source": [
    "### Ordinal Encoding"
   ]
  },
  {
   "cell_type": "code",
   "execution_count": 16,
   "id": "9a5c4dc1",
   "metadata": {},
   "outputs": [
    {
     "data": {
      "text/plain": [
       "array(['Month-to-month', 'Two year', 'One year'], dtype=object)"
      ]
     },
     "execution_count": 16,
     "metadata": {},
     "output_type": "execute_result"
    }
   ],
   "source": [
    "df['Contract'].unique()"
   ]
  },
  {
   "cell_type": "code",
   "execution_count": 17,
   "id": "7c8404af",
   "metadata": {},
   "outputs": [],
   "source": [
    "categories = ['Month-to-month', 'One year', 'Two year']"
   ]
  },
  {
   "cell_type": "code",
   "execution_count": 18,
   "id": "b4f9c232",
   "metadata": {},
   "outputs": [],
   "source": [
    "def ordinal_encoding(x: pd.Series, categories: list) -> pd.Series:\n",
    "    dtype = pd.CategoricalDtype(categories=categories, ordered=True)\n",
    "    x_cat = x.astype(dtype)\n",
    "    \n",
    "    return pd.Series(x_cat.cat.codes, index=x.index, name=x.name)"
   ]
  },
  {
   "cell_type": "code",
   "execution_count": 60,
   "id": "ca31d654",
   "metadata": {},
   "outputs": [
    {
     "data": {
      "text/plain": [
       "0       0\n",
       "1       0\n",
       "2       0\n",
       "3       0\n",
       "4       0\n",
       "       ..\n",
       "7038    2\n",
       "7039    1\n",
       "7040    1\n",
       "7041    0\n",
       "7042    2\n",
       "Name: Contract, Length: 7043, dtype: int8"
      ]
     },
     "execution_count": 60,
     "metadata": {},
     "output_type": "execute_result"
    }
   ],
   "source": [
    "ordinal_encoding(df['Contract'], categories)"
   ]
  },
  {
   "cell_type": "markdown",
   "id": "4f6a31a4",
   "metadata": {},
   "source": [
    "### Count Encoding"
   ]
  },
  {
   "cell_type": "code",
   "execution_count": 19,
   "id": "d1f87bf0",
   "metadata": {},
   "outputs": [],
   "source": [
    "def count_encoding(x: pd.Series) -> pd.Series:\n",
    "    value_counts = x.value_counts()\n",
    "    \n",
    "    return x.map(value_counts)"
   ]
  },
  {
   "cell_type": "markdown",
   "id": "59fd57bc",
   "metadata": {},
   "source": [
    "**Series.map(arg, na_action=None)**\n",
    "\n",
    "Map values of Series according to an input mapping or function.\n",
    "\n",
    "Used for substituting each value in a Series with another value, that may be derived from a function, a dict or a Series.\n",
    "\n",
    "https://pandas.pydata.org/docs/reference/api/pandas.Series.map.html"
   ]
  },
  {
   "cell_type": "code",
   "execution_count": 20,
   "id": "b443c75f",
   "metadata": {},
   "outputs": [
    {
     "data": {
      "text/plain": [
       "0       1612\n",
       "1       2365\n",
       "2       2365\n",
       "3       2365\n",
       "4       1544\n",
       "        ... \n",
       "7038    1544\n",
       "7039    1612\n",
       "7040    1522\n",
       "7041    2365\n",
       "7042    1544\n",
       "Name: Payment Method, Length: 7043, dtype: int64"
      ]
     },
     "execution_count": 20,
     "metadata": {},
     "output_type": "execute_result"
    }
   ],
   "source": [
    "count_encoding(df['Payment Method'])"
   ]
  },
  {
   "cell_type": "markdown",
   "id": "32325d20",
   "metadata": {},
   "source": [
    "### Frequency Encoding"
   ]
  },
  {
   "cell_type": "code",
   "execution_count": 21,
   "id": "f2779e30",
   "metadata": {},
   "outputs": [],
   "source": [
    "def frequency_encoding(x: pd.Series) -> pd.Series:\n",
    "    value_counts = x.value_counts(normalize=True)\n",
    "    \n",
    "    return x.map(value_counts)"
   ]
  },
  {
   "cell_type": "code",
   "execution_count": 22,
   "id": "ff51bac5",
   "metadata": {},
   "outputs": [
    {
     "data": {
      "text/plain": [
       "0       0.228880\n",
       "1       0.335794\n",
       "2       0.335794\n",
       "3       0.335794\n",
       "4       0.219225\n",
       "          ...   \n",
       "7038    0.219225\n",
       "7039    0.228880\n",
       "7040    0.216101\n",
       "7041    0.335794\n",
       "7042    0.219225\n",
       "Name: Payment Method, Length: 7043, dtype: float64"
      ]
     },
     "execution_count": 22,
     "metadata": {},
     "output_type": "execute_result"
    }
   ],
   "source": [
    "frequency_encoding(df['Payment Method'])"
   ]
  },
  {
   "cell_type": "markdown",
   "id": "3b36314a",
   "metadata": {},
   "source": [
    "## Обработка временных признаков"
   ]
  },
  {
   "cell_type": "markdown",
   "id": "c79cc640",
   "metadata": {},
   "source": [
    "Для демонстрации возможностей Pandas для работы с временными признаками, загрузим новый демо-датасет от Open Power System Data (OPSD) по Герамании Германии, которая в последние годы стремительно наращивает производство возобновляемой энергии. Набор данных включает в себя общие для всей страны показатели потребления электроэнергии, производства энергии ветра и солнечной энергии за 2006-2017 годы."
   ]
  },
  {
   "cell_type": "code",
   "execution_count": 23,
   "id": "4757e6ad",
   "metadata": {},
   "outputs": [
    {
     "data": {
      "text/html": [
       "<div>\n",
       "<style scoped>\n",
       "    .dataframe tbody tr th:only-of-type {\n",
       "        vertical-align: middle;\n",
       "    }\n",
       "\n",
       "    .dataframe tbody tr th {\n",
       "        vertical-align: top;\n",
       "    }\n",
       "\n",
       "    .dataframe thead th {\n",
       "        text-align: right;\n",
       "    }\n",
       "</style>\n",
       "<table border=\"1\" class=\"dataframe\">\n",
       "  <thead>\n",
       "    <tr style=\"text-align: right;\">\n",
       "      <th></th>\n",
       "      <th>Date</th>\n",
       "      <th>Consumption</th>\n",
       "      <th>Wind</th>\n",
       "      <th>Solar</th>\n",
       "      <th>Wind+Solar</th>\n",
       "    </tr>\n",
       "  </thead>\n",
       "  <tbody>\n",
       "    <tr>\n",
       "      <th>0</th>\n",
       "      <td>2006-01-01</td>\n",
       "      <td>1069.184</td>\n",
       "      <td>NaN</td>\n",
       "      <td>NaN</td>\n",
       "      <td>NaN</td>\n",
       "    </tr>\n",
       "    <tr>\n",
       "      <th>1</th>\n",
       "      <td>2006-01-02</td>\n",
       "      <td>1380.521</td>\n",
       "      <td>NaN</td>\n",
       "      <td>NaN</td>\n",
       "      <td>NaN</td>\n",
       "    </tr>\n",
       "    <tr>\n",
       "      <th>2</th>\n",
       "      <td>2006-01-03</td>\n",
       "      <td>1442.533</td>\n",
       "      <td>NaN</td>\n",
       "      <td>NaN</td>\n",
       "      <td>NaN</td>\n",
       "    </tr>\n",
       "    <tr>\n",
       "      <th>3</th>\n",
       "      <td>2006-01-04</td>\n",
       "      <td>1457.217</td>\n",
       "      <td>NaN</td>\n",
       "      <td>NaN</td>\n",
       "      <td>NaN</td>\n",
       "    </tr>\n",
       "    <tr>\n",
       "      <th>4</th>\n",
       "      <td>2006-01-05</td>\n",
       "      <td>1477.131</td>\n",
       "      <td>NaN</td>\n",
       "      <td>NaN</td>\n",
       "      <td>NaN</td>\n",
       "    </tr>\n",
       "  </tbody>\n",
       "</table>\n",
       "</div>"
      ],
      "text/plain": [
       "         Date  Consumption  Wind  Solar  Wind+Solar\n",
       "0  2006-01-01     1069.184   NaN    NaN         NaN\n",
       "1  2006-01-02     1380.521   NaN    NaN         NaN\n",
       "2  2006-01-03     1442.533   NaN    NaN         NaN\n",
       "3  2006-01-04     1457.217   NaN    NaN         NaN\n",
       "4  2006-01-05     1477.131   NaN    NaN         NaN"
      ]
     },
     "execution_count": 23,
     "metadata": {},
     "output_type": "execute_result"
    }
   ],
   "source": [
    "opsd = pd.read_csv(r'D:\\Datasets\\opsd_germany_daily.csv', delimiter=',')\n",
    "opsd.head(5)"
   ]
  },
  {
   "cell_type": "code",
   "execution_count": 24,
   "id": "bb0593f1",
   "metadata": {},
   "outputs": [
    {
     "name": "stdout",
     "output_type": "stream",
     "text": [
      "<class 'pandas.core.frame.DataFrame'>\n",
      "RangeIndex: 4383 entries, 0 to 4382\n",
      "Data columns (total 5 columns):\n",
      " #   Column       Non-Null Count  Dtype  \n",
      "---  ------       --------------  -----  \n",
      " 0   Date         4383 non-null   object \n",
      " 1   Consumption  4383 non-null   float64\n",
      " 2   Wind         2920 non-null   float64\n",
      " 3   Solar        2188 non-null   float64\n",
      " 4   Wind+Solar   2187 non-null   float64\n",
      "dtypes: float64(4), object(1)\n",
      "memory usage: 171.3+ KB\n"
     ]
    }
   ],
   "source": [
    "opsd.info()"
   ]
  },
  {
   "cell_type": "markdown",
   "id": "d94bcb4c",
   "metadata": {},
   "source": [
    "**Пояснения к колонкам**\n",
    "- Date — The date (yyyy-mm-dd format)\n",
    "- Consumption — Electricity consumption in GWh\n",
    "- Wind — Wind power production in GWh\n",
    "- Solar — Solar power production in GWh\n",
    "- Wind+Solar — Sum of wind and solar power production in GWh\n"
   ]
  },
  {
   "cell_type": "markdown",
   "id": "4b4572e2",
   "metadata": {},
   "source": [
    "Прежде чем мы начнем работать с данными OPSD, давайте посмотрим на структуру данных pandas для работы с датой и временем: `Timestamp`. \n",
    "\n",
    "Мы можем использовать функцию to_datetime() для создания временных меток из строк в самых разных форматах даты/времени."
   ]
  },
  {
   "cell_type": "code",
   "execution_count": 25,
   "id": "11c3fb46",
   "metadata": {},
   "outputs": [
    {
     "data": {
      "text/plain": [
       "Timestamp('2018-01-15 15:45:00')"
      ]
     },
     "execution_count": 25,
     "metadata": {},
     "output_type": "execute_result"
    }
   ],
   "source": [
    "pd.to_datetime('2018-01-15 3:45pm')"
   ]
  },
  {
   "cell_type": "code",
   "execution_count": 26,
   "id": "24440a92",
   "metadata": {},
   "outputs": [
    {
     "data": {
      "text/plain": [
       "Timestamp('1952-07-08 00:00:00')"
      ]
     },
     "execution_count": 26,
     "metadata": {},
     "output_type": "execute_result"
    }
   ],
   "source": [
    "\n",
    "pd.to_datetime('7/8/1952')"
   ]
  },
  {
   "cell_type": "code",
   "execution_count": 27,
   "id": "d072a2ed",
   "metadata": {},
   "outputs": [
    {
     "data": {
      "text/plain": [
       "Timestamp('1952-08-07 00:00:00')"
      ]
     },
     "execution_count": 27,
     "metadata": {},
     "output_type": "execute_result"
    }
   ],
   "source": [
    "pd.to_datetime('7/8/1952', dayfirst=True)"
   ]
  },
  {
   "cell_type": "code",
   "execution_count": 28,
   "id": "13665208",
   "metadata": {},
   "outputs": [
    {
     "data": {
      "text/plain": [
       "DatetimeIndex(['2018-01-05', '1952-07-08', '1995-10-10'], dtype='datetime64[ns]', freq=None)"
      ]
     },
     "execution_count": 28,
     "metadata": {},
     "output_type": "execute_result"
    }
   ],
   "source": [
    "pd.to_datetime(['2018-01-05', '7/8/1952', 'Oct 10, 1995'], format='mixed')"
   ]
  },
  {
   "cell_type": "markdown",
   "id": "4938933d",
   "metadata": {},
   "source": [
    "Теперь обработаем наши данные"
   ]
  },
  {
   "cell_type": "code",
   "execution_count": 29,
   "id": "d68b851f",
   "metadata": {},
   "outputs": [
    {
     "data": {
      "text/plain": [
       "0   2006-01-01\n",
       "1   2006-01-02\n",
       "2   2006-01-03\n",
       "3   2006-01-04\n",
       "4   2006-01-05\n",
       "Name: Date, dtype: datetime64[ns]"
      ]
     },
     "execution_count": 29,
     "metadata": {},
     "output_type": "execute_result"
    }
   ],
   "source": [
    "opsd['Date'] = pd.to_datetime(opsd['Date'], format='%Y-%m-%d')\n",
    "\n",
    "opsd['Date'].head()"
   ]
  },
  {
   "cell_type": "markdown",
   "id": "1a4236c0",
   "metadata": {},
   "source": [
    "### POSIX timestamp\n",
    "\n",
    "Превращаем дату во время в секундах от эпохи Unix (1970-01-01).\n",
    "Это даёт простое число — удобно хранить, но плохо для моделей, потому что:\n",
    "- разница в секундах отражает длительность, но\n",
    "- модель не понимает цикличности (например, 31 декабря и 1 января очень близки, а timestamp делает их «далёкими»)."
   ]
  },
  {
   "cell_type": "code",
   "execution_count": 30,
   "id": "fb06c15f",
   "metadata": {},
   "outputs": [
    {
     "data": {
      "text/plain": [
       "0    1136073600\n",
       "1    1136160000\n",
       "2    1136246400\n",
       "3    1136332800\n",
       "4    1136419200\n",
       "Name: ts, dtype: int64"
      ]
     },
     "execution_count": 30,
     "metadata": {},
     "output_type": "execute_result"
    }
   ],
   "source": [
    "opsd['ts'] = opsd['Date'].astype('int64') // 10**9\n",
    "opsd['ts'].head()"
   ]
  },
  {
   "cell_type": "code",
   "execution_count": 31,
   "id": "2d2e8be8",
   "metadata": {},
   "outputs": [
    {
     "data": {
      "text/plain": [
       "0       0\n",
       "1       0\n",
       "2       0\n",
       "3       0\n",
       "4       0\n",
       "       ..\n",
       "4378    0\n",
       "4379    0\n",
       "4380    0\n",
       "4381    0\n",
       "4382    0\n",
       "Name: Date, Length: 4383, dtype: int32"
      ]
     },
     "execution_count": 31,
     "metadata": {},
     "output_type": "execute_result"
    }
   ],
   "source": [
    "opsd['Date'].dt.second"
   ]
  },
  {
   "cell_type": "markdown",
   "id": "86c5a542",
   "metadata": {},
   "source": [
    "### Категориальное кодирование признаков даты\n",
    "\n",
    "Разбиваем дату на компоненты:\n",
    "- год\n",
    "- месяц\n",
    "- день\n",
    "- (можно ещё день недели, номер недели)\n",
    "\n",
    "Дальше можно:\n",
    "- оставить их как числа (ordinal encoding),\n",
    "- или перевести в one-hot (например, месяц вектором из 12 признаков)."
   ]
  },
  {
   "cell_type": "code",
   "execution_count": 32,
   "id": "cc47786d",
   "metadata": {},
   "outputs": [
    {
     "data": {
      "text/html": [
       "<div>\n",
       "<style scoped>\n",
       "    .dataframe tbody tr th:only-of-type {\n",
       "        vertical-align: middle;\n",
       "    }\n",
       "\n",
       "    .dataframe tbody tr th {\n",
       "        vertical-align: top;\n",
       "    }\n",
       "\n",
       "    .dataframe thead th {\n",
       "        text-align: right;\n",
       "    }\n",
       "</style>\n",
       "<table border=\"1\" class=\"dataframe\">\n",
       "  <thead>\n",
       "    <tr style=\"text-align: right;\">\n",
       "      <th></th>\n",
       "      <th>Date</th>\n",
       "      <th>Consumption</th>\n",
       "      <th>Wind</th>\n",
       "      <th>Solar</th>\n",
       "      <th>Wind+Solar</th>\n",
       "      <th>ts</th>\n",
       "      <th>year</th>\n",
       "      <th>month</th>\n",
       "      <th>day</th>\n",
       "    </tr>\n",
       "  </thead>\n",
       "  <tbody>\n",
       "    <tr>\n",
       "      <th>0</th>\n",
       "      <td>2006-01-01</td>\n",
       "      <td>1069.184</td>\n",
       "      <td>NaN</td>\n",
       "      <td>NaN</td>\n",
       "      <td>NaN</td>\n",
       "      <td>1136073600</td>\n",
       "      <td>2006</td>\n",
       "      <td>1</td>\n",
       "      <td>1</td>\n",
       "    </tr>\n",
       "    <tr>\n",
       "      <th>1</th>\n",
       "      <td>2006-01-02</td>\n",
       "      <td>1380.521</td>\n",
       "      <td>NaN</td>\n",
       "      <td>NaN</td>\n",
       "      <td>NaN</td>\n",
       "      <td>1136160000</td>\n",
       "      <td>2006</td>\n",
       "      <td>1</td>\n",
       "      <td>2</td>\n",
       "    </tr>\n",
       "    <tr>\n",
       "      <th>2</th>\n",
       "      <td>2006-01-03</td>\n",
       "      <td>1442.533</td>\n",
       "      <td>NaN</td>\n",
       "      <td>NaN</td>\n",
       "      <td>NaN</td>\n",
       "      <td>1136246400</td>\n",
       "      <td>2006</td>\n",
       "      <td>1</td>\n",
       "      <td>3</td>\n",
       "    </tr>\n",
       "    <tr>\n",
       "      <th>3</th>\n",
       "      <td>2006-01-04</td>\n",
       "      <td>1457.217</td>\n",
       "      <td>NaN</td>\n",
       "      <td>NaN</td>\n",
       "      <td>NaN</td>\n",
       "      <td>1136332800</td>\n",
       "      <td>2006</td>\n",
       "      <td>1</td>\n",
       "      <td>4</td>\n",
       "    </tr>\n",
       "    <tr>\n",
       "      <th>4</th>\n",
       "      <td>2006-01-05</td>\n",
       "      <td>1477.131</td>\n",
       "      <td>NaN</td>\n",
       "      <td>NaN</td>\n",
       "      <td>NaN</td>\n",
       "      <td>1136419200</td>\n",
       "      <td>2006</td>\n",
       "      <td>1</td>\n",
       "      <td>5</td>\n",
       "    </tr>\n",
       "  </tbody>\n",
       "</table>\n",
       "</div>"
      ],
      "text/plain": [
       "        Date  Consumption  Wind  Solar  Wind+Solar          ts  year  month  \\\n",
       "0 2006-01-01     1069.184   NaN    NaN         NaN  1136073600  2006      1   \n",
       "1 2006-01-02     1380.521   NaN    NaN         NaN  1136160000  2006      1   \n",
       "2 2006-01-03     1442.533   NaN    NaN         NaN  1136246400  2006      1   \n",
       "3 2006-01-04     1457.217   NaN    NaN         NaN  1136332800  2006      1   \n",
       "4 2006-01-05     1477.131   NaN    NaN         NaN  1136419200  2006      1   \n",
       "\n",
       "   day  \n",
       "0    1  \n",
       "1    2  \n",
       "2    3  \n",
       "3    4  \n",
       "4    5  "
      ]
     },
     "execution_count": 32,
     "metadata": {},
     "output_type": "execute_result"
    }
   ],
   "source": [
    "opsd['year'] = opsd['Date'].dt.year\n",
    "opsd['month'] = opsd['Date'].dt.month\n",
    "opsd['day'] = opsd['Date'].dt.day\n",
    "\n",
    "opsd.head()"
   ]
  },
  {
   "cell_type": "markdown",
   "id": "67baa7d0",
   "metadata": {},
   "source": [
    "### Циклическое кодирование"
   ]
  },
  {
   "cell_type": "markdown",
   "id": "0d8dc58e",
   "metadata": {},
   "source": [
    "Чтобы учесть цикличность признаков (месяц, день недели, час), переводим их в две координаты по окружности:"
   ]
  },
  {
   "attachments": {
    "image.png": {
     "image/png": "[encoded data removed]"
    }
   },
   "cell_type": "markdown",
   "id": "caf18b79",
   "metadata": {},
   "source": [
    "![image.png](attachment:image.png)"
   ]
  },
  {
   "cell_type": "code",
   "execution_count": 33,
   "id": "45d10fa6",
   "metadata": {},
   "outputs": [],
   "source": [
    "opsd['month_sin'] = np.sin(2 * np.pi * opsd['Date'].dt.month / 12)\n",
    "opsd['month_cos'] = np.cos(2 * np.pi * opsd['Date'].dt.month / 12)"
   ]
  },
  {
   "cell_type": "markdown",
   "id": "52c166c5",
   "metadata": {},
   "source": [
    "Теперь январь (1) и декабрь (12) оказываются рядом на круге."
   ]
  },
  {
   "cell_type": "markdown",
   "id": "13598c24",
   "metadata": {},
   "source": [
    "## Обработка аномалий"
   ]
  },
  {
   "cell_type": "code",
   "execution_count": 35,
   "id": "a02f86d0",
   "metadata": {},
   "outputs": [
    {
     "data": {
      "text/plain": [
       "0      -0.981606\n",
       "1      -1.436360\n",
       "2       0.821350\n",
       "3       0.509446\n",
       "4       0.794302\n",
       "          ...   \n",
       "7038    0.765563\n",
       "7039   -1.910555\n",
       "7040    0.980261\n",
       "7041   -1.358595\n",
       "7042    0.588902\n",
       "Name: CLTV, Length: 7043, dtype: float64"
      ]
     },
     "execution_count": 35,
     "metadata": {},
     "output_type": "execute_result"
    }
   ],
   "source": [
    "df['CLTV']"
   ]
  },
  {
   "cell_type": "code",
   "execution_count": null,
   "id": "68799a0c",
   "metadata": {},
   "outputs": [
    {
     "data": {
      "text/plain": [
       "count    7.043000e+03\n",
       "mean    -2.824818e-16\n",
       "std      1.000000e+00\n",
       "min     -2.026357e+00\n",
       "25%     -7.871942e-01\n",
       "50%      1.070990e-01\n",
       "75%      8.285350e-01\n",
       "max      1.774812e+00\n",
       "Name: CLTV, dtype: float64"
      ]
     },
     "execution_count": 50,
     "metadata": {},
     "output_type": "execute_result"
    }
   ],
   "source": [
    "df['CLTV'].describe()"
   ]
  },
  {
   "cell_type": "code",
   "execution_count": 59,
   "id": "744ee7b1",
   "metadata": {},
   "outputs": [
    {
     "name": "stdout",
     "output_type": "stream",
     "text": [
      "Lower: -3.0000000000000004, Mean: -2.8248184866225763e-16, Upper: 2.9999999999999996\n"
     ]
    },
    {
     "data": {
      "text/plain": [
       "0       False\n",
       "1       False\n",
       "2       False\n",
       "3       False\n",
       "4       False\n",
       "        ...  \n",
       "7038    False\n",
       "7039    False\n",
       "7040    False\n",
       "7041    False\n",
       "7042    False\n",
       "Name: CLTV, Length: 7043, dtype: bool"
      ]
     },
     "execution_count": 59,
     "metadata": {},
     "output_type": "execute_result"
    }
   ],
   "source": [
    "def k_std_method(x: np.ndarray | pd.Series, k: int = 3) -> np.ndarray:\n",
    "    upper_bound = x.mean() + k * x.std()\n",
    "    lower_bound = x.mean() - k * x.std()\n",
    "    print(f'Lower: {lower_bound}, Mean: {x.mean()}, Upper: {upper_bound}')\n",
    "    return (x > upper_bound) | (x < lower_bound)\n",
    "\n",
    "mask = k_std_method(df['CLTV'], k = 3)\n",
    "mask"
   ]
  },
  {
   "cell_type": "code",
   "execution_count": 61,
   "id": "33813663",
   "metadata": {},
   "outputs": [
    {
     "data": {
      "text/plain": [
       "False"
      ]
     },
     "execution_count": 61,
     "metadata": {},
     "output_type": "execute_result"
    }
   ],
   "source": [
    "any(mask)"
   ]
  },
  {
   "cell_type": "code",
   "execution_count": 62,
   "id": "29f8e8a9",
   "metadata": {},
   "outputs": [
    {
     "data": {
      "text/plain": [
       "Series([], Name: CLTV, dtype: float64)"
      ]
     },
     "execution_count": 62,
     "metadata": {},
     "output_type": "execute_result"
    }
   ],
   "source": [
    "df['CLTV'][mask]"
   ]
  },
  {
   "cell_type": "code",
   "execution_count": null,
   "id": "402a783f",
   "metadata": {},
   "outputs": [
    {
     "data": {
      "text/plain": [
       "array([-0.86113173,  0.37365584, -0.46584603, ...,  5.        ,\n",
       "       -4.5       ,  4.8       ], shape=(1004,))"
      ]
     },
     "execution_count": 55,
     "metadata": {},
     "output_type": "execute_result"
    }
   ],
   "source": [
    "normal_data = np.random.normal(loc=0, scale=1, size=1000)  # Основная выборка\n",
    "outliers = np.array([-5, 5, -4.5, 4.8])  # Искусственные выбросы\n",
    "x = np.concatenate([normal_data, outliers])\n",
    "\n",
    "x"
   ]
  },
  {
   "cell_type": "code",
   "execution_count": null,
   "id": "b7539b26",
   "metadata": {},
   "outputs": [
    {
     "name": "stdout",
     "output_type": "stream",
     "text": [
      "Lower: -3.0190137802458734, Mean: 0.0439842736225764, Upper: 3.1069823274910258\n"
     ]
    },
    {
     "data": {
      "text/plain": [
       "array([False, False, False, ...,  True,  True,  True], shape=(1004,))"
      ]
     },
     "execution_count": 65,
     "metadata": {},
     "output_type": "execute_result"
    }
   ],
   "source": [
    "mask = k_std_method(x, k = 3)\n",
    "mask"
   ]
  },
  {
   "cell_type": "code",
   "execution_count": 68,
   "id": "72f59757",
   "metadata": {},
   "outputs": [
    {
     "data": {
      "text/plain": [
       "(array([-3.19920744, -3.61311917, -3.05252483, -5.        ,  5.        ,\n",
       "        -4.5       ,  4.8       ]),\n",
       " (7,))"
      ]
     },
     "execution_count": 68,
     "metadata": {},
     "output_type": "execute_result"
    }
   ],
   "source": [
    "x[mask], x[mask].shape"
   ]
  },
  {
   "cell_type": "code",
   "execution_count": 69,
   "id": "85d6d374",
   "metadata": {},
   "outputs": [
    {
     "data": {
      "text/plain": [
       "((997,), (7,))"
      ]
     },
     "execution_count": 69,
     "metadata": {},
     "output_type": "execute_result"
    }
   ],
   "source": [
    "x[~mask].shape, x[mask].shape"
   ]
  },
  {
   "cell_type": "code",
   "execution_count": 75,
   "id": "df45d998",
   "metadata": {},
   "outputs": [
    {
     "data": {
      "text/plain": [
       "(array([ 362,  792,  914, 1000, 1001, 1002, 1003]),)"
      ]
     },
     "execution_count": 75,
     "metadata": {},
     "output_type": "execute_result"
    }
   ],
   "source": [
    "np.where(mask)"
   ]
  },
  {
   "cell_type": "code",
   "execution_count": 81,
   "id": "aab1ef94",
   "metadata": {},
   "outputs": [],
   "source": [
    "def iqr_method(x: np.ndarray | pd.Series, k: float = 1.5) -> np.ndarray:\n",
    "    q1 = np.percentile(x, 25)\n",
    "    q3 = np.percentile(x, 75)\n",
    "    iqr = q3 - q1\n",
    "    \n",
    "    lower_bound = q1 - k * iqr\n",
    "    upper_bound = q3 + k * iqr\n",
    "    \n",
    "    return (x < lower_bound) | (x > upper_bound)\n",
    "\n",
    "\n",
    "mask = iqr_method(df['CLTV'])"
   ]
  },
  {
   "cell_type": "code",
   "execution_count": 82,
   "id": "ccbb9d41",
   "metadata": {},
   "outputs": [
    {
     "data": {
      "text/plain": [
       "False"
      ]
     },
     "execution_count": 82,
     "metadata": {},
     "output_type": "execute_result"
    }
   ],
   "source": [
    "any(mask)"
   ]
  },
  {
   "cell_type": "code",
   "execution_count": 86,
   "id": "84e7ab61",
   "metadata": {},
   "outputs": [
    {
     "data": {
      "text/plain": [
       "((0,), (array([], dtype=int64),))"
      ]
     },
     "execution_count": 86,
     "metadata": {},
     "output_type": "execute_result"
    }
   ],
   "source": [
    "abb = df['CLTV'].values\n",
    "\n",
    "abb[mask].shape, np.where(mask)"
   ]
  },
  {
   "cell_type": "markdown",
   "id": "ca981749",
   "metadata": {},
   "source": [
    "## Обработка пропусков"
   ]
  },
  {
   "cell_type": "markdown",
   "id": "c3a1fd5f",
   "metadata": {},
   "source": [
    "### Заполнение простыми стаистиками"
   ]
  },
  {
   "cell_type": "code",
   "execution_count": null,
   "id": "5f8de8f0",
   "metadata": {},
   "outputs": [
    {
     "data": {
      "text/plain": [
       "0           NaN\n",
       "1           NaN\n",
       "2           NaN\n",
       "3           NaN\n",
       "4           NaN\n",
       "         ...   \n",
       "4378    394.507\n",
       "4379    506.424\n",
       "4380    584.277\n",
       "4381    721.247\n",
       "4382    721.176\n",
       "Name: Wind, Length: 4383, dtype: float64"
      ]
     },
     "execution_count": 87,
     "metadata": {},
     "output_type": "execute_result"
    }
   ],
   "source": [
    "opsd['Wind']"
   ]
  },
  {
   "cell_type": "code",
   "execution_count": 90,
   "id": "f2cdedf7",
   "metadata": {},
   "outputs": [],
   "source": [
    "mean_value = opsd['Wind'].mean()\n",
    "median_value = opsd['Wind'].median()"
   ]
  },
  {
   "cell_type": "code",
   "execution_count": 91,
   "id": "846c014c",
   "metadata": {},
   "outputs": [
    {
     "data": {
      "text/plain": [
       "0       164.814173\n",
       "1       164.814173\n",
       "2       164.814173\n",
       "3       164.814173\n",
       "4       164.814173\n",
       "           ...    \n",
       "4378    394.507000\n",
       "4379    506.424000\n",
       "4380    584.277000\n",
       "4381    721.247000\n",
       "4382    721.176000\n",
       "Name: Wind, Length: 4383, dtype: float64"
      ]
     },
     "execution_count": 91,
     "metadata": {},
     "output_type": "execute_result"
    }
   ],
   "source": [
    "opsd['Wind'].fillna(value=mean_value)"
   ]
  },
  {
   "cell_type": "code",
   "execution_count": 92,
   "id": "c1bb64aa",
   "metadata": {},
   "outputs": [
    {
     "data": {
      "text/plain": [
       "0       119.098\n",
       "1       119.098\n",
       "2       119.098\n",
       "3       119.098\n",
       "4       119.098\n",
       "         ...   \n",
       "4378    394.507\n",
       "4379    506.424\n",
       "4380    584.277\n",
       "4381    721.247\n",
       "4382    721.176\n",
       "Name: Wind, Length: 4383, dtype: float64"
      ]
     },
     "execution_count": 92,
     "metadata": {},
     "output_type": "execute_result"
    }
   ],
   "source": [
    "opsd['Wind'].fillna(value=median_value)"
   ]
  }
 ],
 "metadata": {
  "kernelspec": {
   "display_name": "venv12 (3.12.4)",
   "language": "python",
   "name": "python3"
  },
  "language_info": {
   "codemirror_mode": {
    "name": "ipython",
    "version": 3
   },
   "file_extension": ".py",
   "mimetype": "text/x-python",
   "name": "python",
   "nbconvert_exporter": "python",
   "pygments_lexer": "ipython3",
   "version": "3.12.4"
  }
 },
 "nbformat": 4,
 "nbformat_minor": 5
}
