{
 "cells": [
  {
   "cell_type": "markdown",
   "id": "d76feb6c-cb6b-4650-b6e4-7817a2aadc6a",
   "metadata": {},
   "source": [
    "# Блокнот №2 к Лекции №3. Простейшее обучение с sklearn"
   ]
  },
  {
   "cell_type": "markdown",
   "id": "2aef076b-b4d4-4366-95cf-b00d4e6d2911",
   "metadata": {},
   "source": [
    "## Зависимости"
   ]
  },
  {
   "cell_type": "code",
   "execution_count": 1,
   "id": "119af23f-9be2-488f-9406-6326e54f4108",
   "metadata": {
    "execution": {
     "iopub.execute_input": "2025-10-08T17:41:55.414294Z",
     "iopub.status.busy": "2025-10-08T17:41:55.412987Z",
     "iopub.status.idle": "2025-10-08T17:41:58.256920Z",
     "shell.execute_reply": "2025-10-08T17:41:58.255671Z",
     "shell.execute_reply.started": "2025-10-08T17:41:55.414246Z"
    },
    "tags": []
   },
   "outputs": [],
   "source": [
    "import numpy as np\n",
    "import pandas as pd\n",
    "import matplotlib.pyplot as plt\n",
    "\n",
    "from sklearn.base import BaseEstimator, RegressorMixin, ClassifierMixin\n",
    "from sklearn.datasets import load_breast_cancer, fetch_california_housing\n",
    "from sklearn.model_selection import train_test_split\n",
    "from sklearn.preprocessing import StandardScaler\n",
    "from sklearn.pipeline import Pipeline\n",
    "from sklearn.linear_model import LogisticRegression, LinearRegression\n",
    "from sklearn.metrics import (\n",
    "    accuracy_score, classification_report, confusion_matrix, ConfusionMatrixDisplay,\n",
    "    mean_squared_error, mean_absolute_error, r2_score\n",
    ")"
   ]
  },
  {
   "cell_type": "code",
   "execution_count": 2,
   "id": "0fd27ed6-686c-4360-afdc-4617bec78d50",
   "metadata": {
    "execution": {
     "iopub.execute_input": "2025-10-08T17:41:58.261823Z",
     "iopub.status.busy": "2025-10-08T17:41:58.260812Z",
     "iopub.status.idle": "2025-10-08T17:41:58.336930Z",
     "shell.execute_reply": "2025-10-08T17:41:58.335709Z",
     "shell.execute_reply.started": "2025-10-08T17:41:58.261779Z"
    },
    "tags": []
   },
   "outputs": [],
   "source": [
    "SEED = 42\n",
    "np.random.seed(SEED)"
   ]
  },
  {
   "cell_type": "markdown",
   "id": "ad2fc025-59af-4b30-b352-bb652530e937",
   "metadata": {},
   "source": [
    "## Регрессия"
   ]
  },
  {
   "cell_type": "code",
   "execution_count": 3,
   "id": "2d2fb66a-fc23-4f64-8a12-040cf3c23507",
   "metadata": {
    "execution": {
     "iopub.execute_input": "2025-10-08T17:41:58.339655Z",
     "iopub.status.busy": "2025-10-08T17:41:58.338118Z",
     "iopub.status.idle": "2025-10-08T17:41:58.407042Z",
     "shell.execute_reply": "2025-10-08T17:41:58.405914Z",
     "shell.execute_reply.started": "2025-10-08T17:41:58.339612Z"
    },
    "tags": []
   },
   "outputs": [],
   "source": [
    "cal = fetch_california_housing(as_frame=True)\n",
    "Xr, yr = cal.data, cal.target\n",
    "\n",
    "Xr_tr, Xr_te, yr_tr, yr_te = train_test_split(\n",
    "    Xr, yr, test_size=0.25, random_state=SEED\n",
    ")"
   ]
  },
  {
   "cell_type": "markdown",
   "id": "bd60b458-87cb-4bb1-b05e-a0de9b9c7f1e",
   "metadata": {
    "execution": {
     "iopub.execute_input": "2025-10-08T13:06:41.050642Z",
     "iopub.status.busy": "2025-10-08T13:06:41.049233Z",
     "iopub.status.idle": "2025-10-08T13:06:41.064646Z",
     "shell.execute_reply": "2025-10-08T13:06:41.063340Z",
     "shell.execute_reply.started": "2025-10-08T13:06:41.050588Z"
    },
    "tags": []
   },
   "source": [
    "### Напишем самый тупой бейзлайн -- модель, которая возвращает среднее"
   ]
  },
  {
   "cell_type": "code",
   "execution_count": 5,
   "id": "c4c58d76-51fa-43d0-8ccd-fccef41adfcf",
   "metadata": {
    "execution": {
     "iopub.execute_input": "2025-10-08T17:43:27.362371Z",
     "iopub.status.busy": "2025-10-08T17:43:27.360972Z",
     "iopub.status.idle": "2025-10-08T17:43:27.375948Z",
     "shell.execute_reply": "2025-10-08T17:43:27.375043Z",
     "shell.execute_reply.started": "2025-10-08T17:43:27.362317Z"
    },
    "tags": []
   },
   "outputs": [],
   "source": [
    "class MeanRegressor(BaseEstimator, RegressorMixin):\n",
    "\n",
    "    def __init__(self):\n",
    "        self.y_mean = None\n",
    "        \n",
    "    def fit(self, X, y):\n",
    "        self.y_mean = float(np.mean(y))\n",
    "        print(f'Mean value of the target: {self.y_mean}')\n",
    "        \n",
    "        return self\n",
    "        \n",
    "    def predict(self, X):\n",
    "        return np.full(shape=(len(X),), fill_value=self.y_mean, dtype=float)"
   ]
  },
  {
   "cell_type": "code",
   "execution_count": 6,
   "id": "4fdc6dfe-d291-4070-8b23-9a081d20736a",
   "metadata": {
    "execution": {
     "iopub.execute_input": "2025-10-08T17:43:27.589702Z",
     "iopub.status.busy": "2025-10-08T17:43:27.588608Z",
     "iopub.status.idle": "2025-10-08T17:43:27.616706Z",
     "shell.execute_reply": "2025-10-08T17:43:27.615651Z",
     "shell.execute_reply.started": "2025-10-08T17:43:27.589649Z"
    },
    "tags": []
   },
   "outputs": [
    {
     "name": "stdout",
     "output_type": "stream",
     "text": [
      "Mean value of the target: 2.0703489205426355\n",
      "RMSE: 1.3232694135654075\n",
      "MAE : 0.9100474990475331\n",
      "R^2 : -0.0\n"
     ]
    }
   ],
   "source": [
    "baseline_reg = MeanRegressor().fit(Xr_tr, yr_tr)\n",
    "yr_pred = baseline_reg.predict(Xr_te)\n",
    "\n",
    "print(\"RMSE:\", mean_squared_error(yr_te, yr_pred))\n",
    "print(\"MAE :\", mean_absolute_error(yr_te, yr_pred))\n",
    "print(\"R^2 :\", round(r2_score(yr_te, yr_pred), 4))"
   ]
  },
  {
   "cell_type": "markdown",
   "id": "78495db4-4054-4762-9653-598090136b97",
   "metadata": {},
   "source": [
    "### Чуть менее тупое решение -- самая дефолтная линейная регрессия"
   ]
  },
  {
   "cell_type": "code",
   "execution_count": 7,
   "id": "a6957327-7877-4fac-abe2-276a99fd8444",
   "metadata": {
    "execution": {
     "iopub.execute_input": "2025-10-08T17:45:49.096329Z",
     "iopub.status.busy": "2025-10-08T17:45:49.094859Z",
     "iopub.status.idle": "2025-10-08T17:45:49.150852Z",
     "shell.execute_reply": "2025-10-08T17:45:49.148827Z",
     "shell.execute_reply.started": "2025-10-08T17:45:49.096279Z"
    },
    "tags": []
   },
   "outputs": [],
   "source": [
    "reg = Pipeline([\n",
    "    (\"scaler\", StandardScaler()),\n",
    "    (\"lr\", LinearRegression())\n",
    "])\n",
    "\n",
    "reg.fit(Xr_tr, yr_tr)\n",
    "yr_pred = reg.predict(Xr_te)"
   ]
  },
  {
   "cell_type": "code",
   "execution_count": 8,
   "id": "0198e572-5739-498f-9138-874e3fc13246",
   "metadata": {
    "execution": {
     "iopub.execute_input": "2025-10-08T17:45:49.443467Z",
     "iopub.status.busy": "2025-10-08T17:45:49.442096Z",
     "iopub.status.idle": "2025-10-08T17:45:49.468786Z",
     "shell.execute_reply": "2025-10-08T17:45:49.467585Z",
     "shell.execute_reply.started": "2025-10-08T17:45:49.443423Z"
    },
    "tags": []
   },
   "outputs": [
    {
     "name": "stdout",
     "output_type": "stream",
     "text": [
      "RMSE: 0.5411287478470688\n",
      "MAE : 0.5296964012919462\n",
      "R^2 : 0.5911\n"
     ]
    }
   ],
   "source": [
    "print(\"RMSE:\", mean_squared_error(yr_te, yr_pred))\n",
    "print(\"MAE :\", mean_absolute_error(yr_te, yr_pred))\n",
    "print(\"R^2 :\", round(r2_score(yr_te, yr_pred), 4))"
   ]
  },
  {
   "cell_type": "markdown",
   "id": "02ff214b-c8ea-439f-8d00-0d741c1d5449",
   "metadata": {
    "execution": {
     "iopub.execute_input": "2025-10-08T13:11:23.818748Z",
     "iopub.status.busy": "2025-10-08T13:11:23.817336Z",
     "iopub.status.idle": "2025-10-08T13:11:23.831684Z",
     "shell.execute_reply": "2025-10-08T13:11:23.830662Z",
     "shell.execute_reply.started": "2025-10-08T13:11:23.818694Z"
    },
    "tags": []
   },
   "source": [
    "## Классификация"
   ]
  },
  {
   "cell_type": "code",
   "execution_count": 9,
   "id": "5cbb0b65-c630-4058-afe1-97c50e8f30a1",
   "metadata": {
    "execution": {
     "iopub.execute_input": "2025-10-08T17:46:30.491745Z",
     "iopub.status.busy": "2025-10-08T17:46:30.490508Z",
     "iopub.status.idle": "2025-10-08T17:46:30.567413Z",
     "shell.execute_reply": "2025-10-08T17:46:30.566427Z",
     "shell.execute_reply.started": "2025-10-08T17:46:30.491698Z"
    },
    "tags": []
   },
   "outputs": [],
   "source": [
    "data = load_breast_cancer(as_frame=True)\n",
    "X, y = data.data, data.target\n",
    "\n",
    "X_tr, X_te, y_tr, y_te = train_test_split(\n",
    "    X, y, test_size=0.25, random_state=SEED, stratify=y\n",
    ")"
   ]
  },
  {
   "cell_type": "markdown",
   "id": "311a6dd5-20c7-4705-8ae6-c3cdae6d4de4",
   "metadata": {},
   "source": [
    "### Самый тупой безйлайн для классификации -- алгоритм, который случайно угадывает один из классов"
   ]
  },
  {
   "cell_type": "code",
   "execution_count": 10,
   "id": "7d2ebf0e-7319-4fa3-a5dc-e4fec3376f9f",
   "metadata": {
    "execution": {
     "iopub.execute_input": "2025-10-08T17:46:40.595128Z",
     "iopub.status.busy": "2025-10-08T17:46:40.593901Z",
     "iopub.status.idle": "2025-10-08T17:46:40.617290Z",
     "shell.execute_reply": "2025-10-08T17:46:40.611295Z",
     "shell.execute_reply.started": "2025-10-08T17:46:40.595082Z"
    },
    "tags": []
   },
   "outputs": [
    {
     "data": {
      "text/plain": [
       "Generator(PCG64) at 0x7F8204DB2340"
      ]
     },
     "execution_count": 10,
     "metadata": {},
     "output_type": "execute_result"
    }
   ],
   "source": [
    "np.random.default_rng(42)"
   ]
  },
  {
   "cell_type": "code",
   "execution_count": 11,
   "id": "a3acee62-9de9-44e4-bd9f-54285f74a72a",
   "metadata": {
    "execution": {
     "iopub.execute_input": "2025-10-08T17:47:28.200713Z",
     "iopub.status.busy": "2025-10-08T17:47:28.199415Z",
     "iopub.status.idle": "2025-10-08T17:47:28.224190Z",
     "shell.execute_reply": "2025-10-08T17:47:28.223210Z",
     "shell.execute_reply.started": "2025-10-08T17:47:28.200655Z"
    },
    "tags": []
   },
   "outputs": [],
   "source": [
    "class RandomClassClassifier(BaseEstimator, ClassifierMixin):\n",
    "\n",
    "    def __init__(self):\n",
    "        pass\n",
    "        \n",
    "    def fit(self, X, y):\n",
    "        self.classes_ = np.unique(np.asarray(y))\n",
    "        return self\n",
    "    \n",
    "    def predict(self, X):\n",
    "        return np.random.choice(self.classes_, size=len(X))\n",
    "    \n",
    "    def predict_proba(self, X):\n",
    "        n = len(X)\n",
    "        k = len(self.classes_)\n",
    "        return np.full((n, k), 1.0 / k)\n"
   ]
  },
  {
   "cell_type": "code",
   "execution_count": 12,
   "id": "580eb5d1-f463-4747-a80a-a87adb81fdf3",
   "metadata": {
    "execution": {
     "iopub.execute_input": "2025-10-08T17:47:28.594704Z",
     "iopub.status.busy": "2025-10-08T17:47:28.593527Z",
     "iopub.status.idle": "2025-10-08T17:47:28.624306Z",
     "shell.execute_reply": "2025-10-08T17:47:28.623315Z",
     "shell.execute_reply.started": "2025-10-08T17:47:28.594654Z"
    },
    "tags": []
   },
   "outputs": [
    {
     "name": "stdout",
     "output_type": "stream",
     "text": [
      "accuracy: 0.5174825174825175\n",
      "              precision    recall  f1-score   support\n",
      "\n",
      "   malignant       0.38      0.45      0.41        53\n",
      "      benign       0.63      0.56      0.59        90\n",
      "\n",
      "    accuracy                           0.52       143\n",
      "   macro avg       0.50      0.50      0.50       143\n",
      "weighted avg       0.54      0.52      0.52       143\n",
      "\n"
     ]
    }
   ],
   "source": [
    "baseline_clf = RandomClassClassifier().fit(X_tr, y_tr)\n",
    "y_pred_base = baseline_clf.predict(X_te)\n",
    "\n",
    "print(\"accuracy:\", accuracy_score(y_te, y_pred_base))\n",
    "print(classification_report(y_te, y_pred_base, target_names=data.target_names))"
   ]
  },
  {
   "cell_type": "code",
   "execution_count": 13,
   "id": "83c19320-8155-4c0e-976a-fd96cdc01880",
   "metadata": {
    "execution": {
     "iopub.execute_input": "2025-10-08T17:47:59.908211Z",
     "iopub.status.busy": "2025-10-08T17:47:59.906610Z",
     "iopub.status.idle": "2025-10-08T17:47:59.924910Z",
     "shell.execute_reply": "2025-10-08T17:47:59.923585Z",
     "shell.execute_reply.started": "2025-10-08T17:47:59.908159Z"
    },
    "tags": []
   },
   "outputs": [
    {
     "data": {
      "text/plain": [
       "array([0, 1, 0, 0, 0, 1, 0, 0, 0, 1, 0, 0, 0, 0, 1, 0, 1, 1, 1, 0, 1, 0,\n",
       "       1, 1, 1, 1, 1, 1, 1, 1, 0, 0, 1, 1, 1, 0, 1, 0, 0, 0, 0, 0, 1, 1,\n",
       "       1, 1, 1, 0, 1, 1, 0, 1, 0, 1, 0, 1, 1, 0, 0, 0, 0, 0, 0, 0, 0, 1,\n",
       "       1, 0, 1, 1, 1, 1, 0, 1, 0, 1, 1, 1, 0, 1, 0, 1, 0, 1, 0, 0, 1, 0,\n",
       "       1, 1, 1, 1, 1, 1, 1, 1, 1, 1, 1, 0, 0, 1, 1, 1, 1, 1, 1, 1, 1, 0,\n",
       "       1, 0, 1, 1, 0, 1, 0, 1, 1, 0, 1, 0, 1, 0, 0, 1, 1, 0, 1, 1, 1, 0,\n",
       "       0, 0, 0, 0, 0, 0, 0, 0, 1, 0, 1])"
      ]
     },
     "execution_count": 13,
     "metadata": {},
     "output_type": "execute_result"
    }
   ],
   "source": [
    "y_pred_base"
   ]
  },
  {
   "cell_type": "code",
   "execution_count": 14,
   "id": "8e8c6481-876a-4a69-8ba2-9bd8f84b06c9",
   "metadata": {
    "execution": {
     "iopub.execute_input": "2025-10-08T17:48:02.411939Z",
     "iopub.status.busy": "2025-10-08T17:48:02.410717Z",
     "iopub.status.idle": "2025-10-08T17:48:02.442001Z",
     "shell.execute_reply": "2025-10-08T17:48:02.440979Z",
     "shell.execute_reply.started": "2025-10-08T17:48:02.411891Z"
    },
    "tags": []
   },
   "outputs": [
    {
     "data": {
      "text/plain": [
       "array([[0.5, 0.5],\n",
       "       [0.5, 0.5],\n",
       "       [0.5, 0.5],\n",
       "       [0.5, 0.5],\n",
       "       [0.5, 0.5],\n",
       "       [0.5, 0.5],\n",
       "       [0.5, 0.5],\n",
       "       [0.5, 0.5],\n",
       "       [0.5, 0.5],\n",
       "       [0.5, 0.5],\n",
       "       [0.5, 0.5],\n",
       "       [0.5, 0.5],\n",
       "       [0.5, 0.5],\n",
       "       [0.5, 0.5],\n",
       "       [0.5, 0.5],\n",
       "       [0.5, 0.5],\n",
       "       [0.5, 0.5],\n",
       "       [0.5, 0.5],\n",
       "       [0.5, 0.5],\n",
       "       [0.5, 0.5],\n",
       "       [0.5, 0.5],\n",
       "       [0.5, 0.5],\n",
       "       [0.5, 0.5],\n",
       "       [0.5, 0.5],\n",
       "       [0.5, 0.5],\n",
       "       [0.5, 0.5],\n",
       "       [0.5, 0.5],\n",
       "       [0.5, 0.5],\n",
       "       [0.5, 0.5],\n",
       "       [0.5, 0.5],\n",
       "       [0.5, 0.5],\n",
       "       [0.5, 0.5],\n",
       "       [0.5, 0.5],\n",
       "       [0.5, 0.5],\n",
       "       [0.5, 0.5],\n",
       "       [0.5, 0.5],\n",
       "       [0.5, 0.5],\n",
       "       [0.5, 0.5],\n",
       "       [0.5, 0.5],\n",
       "       [0.5, 0.5],\n",
       "       [0.5, 0.5],\n",
       "       [0.5, 0.5],\n",
       "       [0.5, 0.5],\n",
       "       [0.5, 0.5],\n",
       "       [0.5, 0.5],\n",
       "       [0.5, 0.5],\n",
       "       [0.5, 0.5],\n",
       "       [0.5, 0.5],\n",
       "       [0.5, 0.5],\n",
       "       [0.5, 0.5],\n",
       "       [0.5, 0.5],\n",
       "       [0.5, 0.5],\n",
       "       [0.5, 0.5],\n",
       "       [0.5, 0.5],\n",
       "       [0.5, 0.5],\n",
       "       [0.5, 0.5],\n",
       "       [0.5, 0.5],\n",
       "       [0.5, 0.5],\n",
       "       [0.5, 0.5],\n",
       "       [0.5, 0.5],\n",
       "       [0.5, 0.5],\n",
       "       [0.5, 0.5],\n",
       "       [0.5, 0.5],\n",
       "       [0.5, 0.5],\n",
       "       [0.5, 0.5],\n",
       "       [0.5, 0.5],\n",
       "       [0.5, 0.5],\n",
       "       [0.5, 0.5],\n",
       "       [0.5, 0.5],\n",
       "       [0.5, 0.5],\n",
       "       [0.5, 0.5],\n",
       "       [0.5, 0.5],\n",
       "       [0.5, 0.5],\n",
       "       [0.5, 0.5],\n",
       "       [0.5, 0.5],\n",
       "       [0.5, 0.5],\n",
       "       [0.5, 0.5],\n",
       "       [0.5, 0.5],\n",
       "       [0.5, 0.5],\n",
       "       [0.5, 0.5],\n",
       "       [0.5, 0.5],\n",
       "       [0.5, 0.5],\n",
       "       [0.5, 0.5],\n",
       "       [0.5, 0.5],\n",
       "       [0.5, 0.5],\n",
       "       [0.5, 0.5],\n",
       "       [0.5, 0.5],\n",
       "       [0.5, 0.5],\n",
       "       [0.5, 0.5],\n",
       "       [0.5, 0.5],\n",
       "       [0.5, 0.5],\n",
       "       [0.5, 0.5],\n",
       "       [0.5, 0.5],\n",
       "       [0.5, 0.5],\n",
       "       [0.5, 0.5],\n",
       "       [0.5, 0.5],\n",
       "       [0.5, 0.5],\n",
       "       [0.5, 0.5],\n",
       "       [0.5, 0.5],\n",
       "       [0.5, 0.5],\n",
       "       [0.5, 0.5],\n",
       "       [0.5, 0.5],\n",
       "       [0.5, 0.5],\n",
       "       [0.5, 0.5],\n",
       "       [0.5, 0.5],\n",
       "       [0.5, 0.5],\n",
       "       [0.5, 0.5],\n",
       "       [0.5, 0.5],\n",
       "       [0.5, 0.5],\n",
       "       [0.5, 0.5],\n",
       "       [0.5, 0.5],\n",
       "       [0.5, 0.5],\n",
       "       [0.5, 0.5],\n",
       "       [0.5, 0.5],\n",
       "       [0.5, 0.5],\n",
       "       [0.5, 0.5],\n",
       "       [0.5, 0.5],\n",
       "       [0.5, 0.5],\n",
       "       [0.5, 0.5],\n",
       "       [0.5, 0.5],\n",
       "       [0.5, 0.5],\n",
       "       [0.5, 0.5],\n",
       "       [0.5, 0.5],\n",
       "       [0.5, 0.5],\n",
       "       [0.5, 0.5],\n",
       "       [0.5, 0.5],\n",
       "       [0.5, 0.5],\n",
       "       [0.5, 0.5],\n",
       "       [0.5, 0.5],\n",
       "       [0.5, 0.5],\n",
       "       [0.5, 0.5],\n",
       "       [0.5, 0.5],\n",
       "       [0.5, 0.5],\n",
       "       [0.5, 0.5],\n",
       "       [0.5, 0.5],\n",
       "       [0.5, 0.5],\n",
       "       [0.5, 0.5],\n",
       "       [0.5, 0.5],\n",
       "       [0.5, 0.5],\n",
       "       [0.5, 0.5],\n",
       "       [0.5, 0.5],\n",
       "       [0.5, 0.5],\n",
       "       [0.5, 0.5]])"
      ]
     },
     "execution_count": 14,
     "metadata": {},
     "output_type": "execute_result"
    }
   ],
   "source": [
    "baseline_clf.predict_proba(X_te)"
   ]
  },
  {
   "cell_type": "markdown",
   "id": "57fe6bb5-b0dd-48b6-af51-91af63c618b4",
   "metadata": {},
   "source": [
    "### Что-то менее тупое -- логистическая регрессия"
   ]
  },
  {
   "cell_type": "code",
   "execution_count": 15,
   "id": "3444c5b9-8632-4252-8ab4-9885a4e93139",
   "metadata": {
    "execution": {
     "iopub.execute_input": "2025-10-08T17:48:12.034730Z",
     "iopub.status.busy": "2025-10-08T17:48:12.033186Z",
     "iopub.status.idle": "2025-10-08T17:48:12.075Z",
     "shell.execute_reply": "2025-10-08T17:48:12.073835Z",
     "shell.execute_reply.started": "2025-10-08T17:48:12.034679Z"
    },
    "tags": []
   },
   "outputs": [],
   "source": [
    "clf = Pipeline([\n",
    "    (\"scaler\", StandardScaler()),\n",
    "    (\"lr\", LogisticRegression(max_iter=1000))\n",
    "])\n",
    "clf.fit(X_tr, y_tr)\n",
    "y_pred = clf.predict(X_te)"
   ]
  },
  {
   "cell_type": "code",
   "execution_count": 16,
   "id": "fd58d1c0-81b0-4c4e-a90b-615b3a576c5f",
   "metadata": {
    "execution": {
     "iopub.execute_input": "2025-10-08T17:48:12.364869Z",
     "iopub.status.busy": "2025-10-08T17:48:12.363372Z",
     "iopub.status.idle": "2025-10-08T17:48:12.657036Z",
     "shell.execute_reply": "2025-10-08T17:48:12.655831Z",
     "shell.execute_reply.started": "2025-10-08T17:48:12.364812Z"
    },
    "tags": []
   },
   "outputs": [
    {
     "name": "stdout",
     "output_type": "stream",
     "text": [
      "accuracy: 0.986013986013986\n",
      "              precision    recall  f1-score   support\n",
      "\n",
      "   malignant       0.98      0.98      0.98        53\n",
      "      benign       0.99      0.99      0.99        90\n",
      "\n",
      "    accuracy                           0.99       143\n",
      "   macro avg       0.99      0.99      0.99       143\n",
      "weighted avg       0.99      0.99      0.99       143\n",
      "\n"
     ]
    },
    {
     "data": {
      "text/plain": [
       "<Figure size 400x400 with 0 Axes>"
      ]
     },
     "metadata": {},
     "output_type": "display_data"
    },
    {
     "data": {
      "image/png": "[encoded data removed]",
      "text/plain": [
       "<Figure size 640x480 with 2 Axes>"
      ]
     },
     "metadata": {},
     "output_type": "display_data"
    }
   ],
   "source": [
    "print(\"accuracy:\", accuracy_score(y_te, y_pred))\n",
    "print(classification_report(y_te, y_pred, target_names=data.target_names))\n",
    "\n",
    "fig = plt.figure(figsize=(4, 4))\n",
    "ConfusionMatrixDisplay(confusion_matrix(y_te, y_pred), display_labels=data.target_names).plot(values_format=\"d\")\n",
    "plt.title(\"Матрица ошибок\")\n",
    "plt.tight_layout()\n",
    "plt.show()\n"
   ]
  },
  {
   "cell_type": "code",
   "execution_count": null,
   "id": "1ded659f-784f-4684-b6ce-171462e8f6bd",
   "metadata": {},
   "outputs": [],
   "source": []
  },
  {
   "cell_type": "code",
   "execution_count": null,
   "id": "a396e82f-c3f0-47c9-8922-4226c6b2f19c",
   "metadata": {},
   "outputs": [],
   "source": []
  }
 ],
 "metadata": {
  "kernelspec": {
   "display_name": "DataSphere Kernel",
   "language": "python",
   "name": "python3"
  },
  "language_info": {
   "codemirror_mode": {
    "name": "ipython",
    "version": 3
   },
   "file_extension": ".py",
   "mimetype": "text/x-python",
   "name": "python",
   "nbconvert_exporter": "python",
   "pygments_lexer": "ipython3",
   "version": "3.10.12"
  }
 },
 "nbformat": 4,
 "nbformat_minor": 5
}
